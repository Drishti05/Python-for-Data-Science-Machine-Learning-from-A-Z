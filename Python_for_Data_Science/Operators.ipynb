{
  "nbformat": 4,
  "nbformat_minor": 0,
  "metadata": {
    "colab": {
      "name": "Operators.ipynb",
      "provenance": [],
      "authorship_tag": "ABX9TyNbVUYy4bEjbd9LJcsi1edJ",
      "include_colab_link": true
    },
    "kernelspec": {
      "name": "python3",
      "display_name": "Python 3"
    },
    "language_info": {
      "name": "python"
    }
  },
  "cells": [
    {
      "cell_type": "markdown",
      "metadata": {
        "id": "view-in-github",
        "colab_type": "text"
      },
      "source": [
        "<a href=\"https://colab.research.google.com/github/Drishti05/Python-for-Data-Science-Machine-Learning-from-A-Z/blob/main/Python_for_Data_Science/Operators.ipynb\" target=\"_parent\"><img src=\"https://colab.research.google.com/assets/colab-badge.svg\" alt=\"Open In Colab\"/></a>"
      ]
    },
    {
      "cell_type": "markdown",
      "metadata": {
        "id": "DaTiRByuVVff"
      },
      "source": [
        "# Operators"
      ]
    },
    {
      "cell_type": "markdown",
      "metadata": {
        "id": "LFZlbN0nVZXB"
      },
      "source": [
        "- **Adddition**\n",
        "- **Subtraction**\n",
        "- **Division**\n",
        "- **Multiplication**\n",
        "- **Exponent**"
      ]
    },
    {
      "cell_type": "code",
      "metadata": {
        "colab": {
          "base_uri": "https://localhost:8080/"
        },
        "id": "1vDD6yDvjYVc",
        "outputId": "0f03f276-c8c8-41d4-aa7c-e5217c09add6"
      },
      "source": [
        "3 + 4"
      ],
      "execution_count": 1,
      "outputs": [
        {
          "output_type": "execute_result",
          "data": {
            "text/plain": [
              "7"
            ]
          },
          "metadata": {},
          "execution_count": 1
        }
      ]
    },
    {
      "cell_type": "code",
      "metadata": {
        "colab": {
          "base_uri": "https://localhost:8080/"
        },
        "id": "f4gok6x4kJFq",
        "outputId": "83d382bc-108e-46e6-982f-60efd7af21ac"
      },
      "source": [
        "4-2"
      ],
      "execution_count": 2,
      "outputs": [
        {
          "output_type": "execute_result",
          "data": {
            "text/plain": [
              "2"
            ]
          },
          "metadata": {},
          "execution_count": 2
        }
      ]
    },
    {
      "cell_type": "code",
      "metadata": {
        "colab": {
          "base_uri": "https://localhost:8080/"
        },
        "id": "c8O23xZEkLtG",
        "outputId": "e183e2bc-8c7f-4744-f9b7-d8768c85b7d3"
      },
      "source": [
        "5*3"
      ],
      "execution_count": 3,
      "outputs": [
        {
          "output_type": "execute_result",
          "data": {
            "text/plain": [
              "15"
            ]
          },
          "metadata": {},
          "execution_count": 3
        }
      ]
    },
    {
      "cell_type": "code",
      "metadata": {
        "colab": {
          "base_uri": "https://localhost:8080/"
        },
        "id": "dkTSIQgCkRU_",
        "outputId": "a18b54f8-6a48-4af8-9d6f-1eb7c0c7245c"
      },
      "source": [
        "16/8"
      ],
      "execution_count": 4,
      "outputs": [
        {
          "output_type": "execute_result",
          "data": {
            "text/plain": [
              "2.0"
            ]
          },
          "metadata": {},
          "execution_count": 4
        }
      ]
    },
    {
      "cell_type": "code",
      "metadata": {
        "colab": {
          "base_uri": "https://localhost:8080/"
        },
        "id": "JPo0n2LPkV44",
        "outputId": "b7bc57e7-3414-468e-e2ff-d0ea25a25c5f"
      },
      "source": [
        "2**3"
      ],
      "execution_count": 5,
      "outputs": [
        {
          "output_type": "execute_result",
          "data": {
            "text/plain": [
              "8"
            ]
          },
          "metadata": {},
          "execution_count": 5
        }
      ]
    },
    {
      "cell_type": "markdown",
      "metadata": {
        "id": "z8-luzYrnLd6"
      },
      "source": [
        "## Python follows BODMAS rules\n"
      ]
    },
    {
      "cell_type": "code",
      "metadata": {
        "colab": {
          "base_uri": "https://localhost:8080/"
        },
        "id": "uWFLSmQRm8AX",
        "outputId": "78423ab6-a4e6-4fe5-b514-51ea31d9001a"
      },
      "source": [
        "16 - 2 + 4 * 1 / 5 "
      ],
      "execution_count": 6,
      "outputs": [
        {
          "output_type": "execute_result",
          "data": {
            "text/plain": [
              "14.8"
            ]
          },
          "metadata": {},
          "execution_count": 6
        }
      ]
    },
    {
      "cell_type": "code",
      "metadata": {
        "colab": {
          "base_uri": "https://localhost:8080/"
        },
        "id": "lFyBssQGnYFU",
        "outputId": "b93442f9-1e3b-4f13-d403-4700faeff45f"
      },
      "source": [
        "a=9\n",
        "b=8\n",
        "total=a+b\n",
        "total"
      ],
      "execution_count": 8,
      "outputs": [
        {
          "output_type": "execute_result",
          "data": {
            "text/plain": [
              "17"
            ]
          },
          "metadata": {},
          "execution_count": 8
        }
      ]
    },
    {
      "cell_type": "markdown",
      "metadata": {
        "id": "B4rinhTE1oXt"
      },
      "source": [
        "## Comparison Operators\n",
        "\n"
      ]
    },
    {
      "cell_type": "code",
      "metadata": {
        "colab": {
          "base_uri": "https://localhost:8080/"
        },
        "id": "dO1VJrTx1rve",
        "outputId": "39d082e6-4b00-4788-fede-5c41539ba87d"
      },
      "source": [
        "5==5"
      ],
      "execution_count": 9,
      "outputs": [
        {
          "output_type": "execute_result",
          "data": {
            "text/plain": [
              "True"
            ]
          },
          "metadata": {},
          "execution_count": 9
        }
      ]
    },
    {
      "cell_type": "code",
      "metadata": {
        "colab": {
          "base_uri": "https://localhost:8080/"
        },
        "id": "XO8nXV9r1-_9",
        "outputId": "a12eed02-00c5-4de0-9812-a5a368b42038"
      },
      "source": [
        "5==6"
      ],
      "execution_count": 10,
      "outputs": [
        {
          "output_type": "execute_result",
          "data": {
            "text/plain": [
              "False"
            ]
          },
          "metadata": {},
          "execution_count": 10
        }
      ]
    },
    {
      "cell_type": "code",
      "metadata": {
        "colab": {
          "base_uri": "https://localhost:8080/"
        },
        "id": "0LrK6k8G2E7t",
        "outputId": "8ce4efff-ad25-42a2-b44c-7c21e946a7e1"
      },
      "source": [
        "8!=9"
      ],
      "execution_count": 11,
      "outputs": [
        {
          "output_type": "execute_result",
          "data": {
            "text/plain": [
              "True"
            ]
          },
          "metadata": {},
          "execution_count": 11
        }
      ]
    },
    {
      "cell_type": "code",
      "metadata": {
        "colab": {
          "base_uri": "https://localhost:8080/"
        },
        "id": "2c5yom2l2Ww_",
        "outputId": "d966166a-618e-48dd-dd63-a796a3661d18"
      },
      "source": [
        "7!=7"
      ],
      "execution_count": 12,
      "outputs": [
        {
          "output_type": "execute_result",
          "data": {
            "text/plain": [
              "False"
            ]
          },
          "metadata": {},
          "execution_count": 12
        }
      ]
    },
    {
      "cell_type": "code",
      "metadata": {
        "colab": {
          "base_uri": "https://localhost:8080/"
        },
        "id": "_6ocCxFq20av",
        "outputId": "f9af58e5-44a1-4b71-e6bf-bfc4e7f258bd"
      },
      "source": [
        "a=5\n",
        "b=6\n",
        "\n",
        "a==b"
      ],
      "execution_count": 13,
      "outputs": [
        {
          "output_type": "execute_result",
          "data": {
            "text/plain": [
              "False"
            ]
          },
          "metadata": {},
          "execution_count": 13
        }
      ]
    },
    {
      "cell_type": "code",
      "metadata": {
        "colab": {
          "base_uri": "https://localhost:8080/"
        },
        "id": "xFan0Mas350H",
        "outputId": "81efe669-c665-4352-8437-f054d9a4d39b"
      },
      "source": [
        "5>5"
      ],
      "execution_count": 14,
      "outputs": [
        {
          "output_type": "execute_result",
          "data": {
            "text/plain": [
              "False"
            ]
          },
          "metadata": {},
          "execution_count": 14
        }
      ]
    },
    {
      "cell_type": "code",
      "metadata": {
        "colab": {
          "base_uri": "https://localhost:8080/"
        },
        "id": "twZS2grN4AfS",
        "outputId": "0d292ae9-ab25-42dc-e489-3cc4fc8d261f"
      },
      "source": [
        "5<6"
      ],
      "execution_count": 15,
      "outputs": [
        {
          "output_type": "execute_result",
          "data": {
            "text/plain": [
              "True"
            ]
          },
          "metadata": {},
          "execution_count": 15
        }
      ]
    },
    {
      "cell_type": "code",
      "metadata": {
        "colab": {
          "base_uri": "https://localhost:8080/"
        },
        "id": "LEZWakG64Cdu",
        "outputId": "44226b30-2902-434b-e82d-bdde9749b9c8"
      },
      "source": [
        "6>=6"
      ],
      "execution_count": 16,
      "outputs": [
        {
          "output_type": "execute_result",
          "data": {
            "text/plain": [
              "True"
            ]
          },
          "metadata": {},
          "execution_count": 16
        }
      ]
    },
    {
      "cell_type": "code",
      "metadata": {
        "colab": {
          "base_uri": "https://localhost:8080/"
        },
        "id": "dX25OJcV4Fw9",
        "outputId": "170cdcf9-6395-4175-c626-e4a2d829e672"
      },
      "source": [
        "6<=6"
      ],
      "execution_count": 17,
      "outputs": [
        {
          "output_type": "execute_result",
          "data": {
            "text/plain": [
              "True"
            ]
          },
          "metadata": {},
          "execution_count": 17
        }
      ]
    },
    {
      "cell_type": "markdown",
      "metadata": {
        "id": "JnpjTtpR4L9j"
      },
      "source": [
        "# Logocal Operators"
      ]
    },
    {
      "cell_type": "markdown",
      "metadata": {
        "id": "33lphcgd4Sq5"
      },
      "source": [
        "- AND\n",
        "- NOT\n",
        "- OR"
      ]
    },
    {
      "cell_type": "code",
      "metadata": {
        "colab": {
          "base_uri": "https://localhost:8080/"
        },
        "id": "P0qqmDmL4QHP",
        "outputId": "e835437a-42bc-4e45-b087-7e6ca0dbe230"
      },
      "source": [
        "True and False"
      ],
      "execution_count": 18,
      "outputs": [
        {
          "output_type": "execute_result",
          "data": {
            "text/plain": [
              "False"
            ]
          },
          "metadata": {},
          "execution_count": 18
        }
      ]
    },
    {
      "cell_type": "code",
      "metadata": {
        "colab": {
          "base_uri": "https://localhost:8080/"
        },
        "id": "t_N9W685419C",
        "outputId": "5b548f71-8753-490d-bab9-ac26e1994da0"
      },
      "source": [
        "True and True"
      ],
      "execution_count": 19,
      "outputs": [
        {
          "output_type": "execute_result",
          "data": {
            "text/plain": [
              "True"
            ]
          },
          "metadata": {},
          "execution_count": 19
        }
      ]
    },
    {
      "cell_type": "code",
      "metadata": {
        "colab": {
          "base_uri": "https://localhost:8080/"
        },
        "id": "BGiHXd1v7SGa",
        "outputId": "d7b7d800-4960-4722-d61d-64136478b2f5"
      },
      "source": [
        "True or False"
      ],
      "execution_count": 20,
      "outputs": [
        {
          "output_type": "execute_result",
          "data": {
            "text/plain": [
              "True"
            ]
          },
          "metadata": {},
          "execution_count": 20
        }
      ]
    },
    {
      "cell_type": "code",
      "metadata": {
        "colab": {
          "base_uri": "https://localhost:8080/"
        },
        "id": "d5fPGc287VRz",
        "outputId": "b177a2b7-c974-45bf-91cb-a6c526f97d69"
      },
      "source": [
        "False or False "
      ],
      "execution_count": 21,
      "outputs": [
        {
          "output_type": "execute_result",
          "data": {
            "text/plain": [
              "False"
            ]
          },
          "metadata": {},
          "execution_count": 21
        }
      ]
    },
    {
      "cell_type": "code",
      "metadata": {
        "colab": {
          "base_uri": "https://localhost:8080/"
        },
        "id": "UKuTSHC_72nQ",
        "outputId": "ce2474a1-1913-435a-84bf-a9be4491740f"
      },
      "source": [
        "not True"
      ],
      "execution_count": 22,
      "outputs": [
        {
          "output_type": "execute_result",
          "data": {
            "text/plain": [
              "False"
            ]
          },
          "metadata": {},
          "execution_count": 22
        }
      ]
    },
    {
      "cell_type": "code",
      "metadata": {
        "colab": {
          "base_uri": "https://localhost:8080/"
        },
        "id": "39s3Oo_l743c",
        "outputId": "32c353bd-6706-4b10-e551-3734b7380617"
      },
      "source": [
        "not False"
      ],
      "execution_count": 24,
      "outputs": [
        {
          "output_type": "execute_result",
          "data": {
            "text/plain": [
              "True"
            ]
          },
          "metadata": {},
          "execution_count": 24
        }
      ]
    },
    {
      "cell_type": "code",
      "metadata": {
        "colab": {
          "base_uri": "https://localhost:8080/"
        },
        "id": "EkM-TZ1k8FiM",
        "outputId": "038cd1ed-92b5-47be-effd-f07b8fa9cdec"
      },
      "source": [
        "5<6 and 6<5"
      ],
      "execution_count": 26,
      "outputs": [
        {
          "output_type": "execute_result",
          "data": {
            "text/plain": [
              "False"
            ]
          },
          "metadata": {},
          "execution_count": 26
        }
      ]
    },
    {
      "cell_type": "markdown",
      "metadata": {
        "id": "osGTq6yS8M6N"
      },
      "source": [
        "# Operator Precedence"
      ]
    },
    {
      "cell_type": "markdown",
      "metadata": {
        "id": "gyvpsolc8UqA"
      },
      "source": [
        "                      NOT\n",
        "         AND                      OR"
      ]
    },
    {
      "cell_type": "code",
      "metadata": {
        "colab": {
          "base_uri": "https://localhost:8080/"
        },
        "id": "ScRj6XUP8QAr",
        "outputId": "a5edebb2-1f42-457c-eea0-2b9fbe6e2e59"
      },
      "source": [
        "not True and False or True"
      ],
      "execution_count": 27,
      "outputs": [
        {
          "output_type": "execute_result",
          "data": {
            "text/plain": [
              "True"
            ]
          },
          "metadata": {},
          "execution_count": 27
        }
      ]
    }
  ]
}