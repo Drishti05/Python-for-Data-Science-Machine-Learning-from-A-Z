{
  "nbformat": 4,
  "nbformat_minor": 0,
  "metadata": {
    "colab": {
      "name": "Variables.ipynb",
      "provenance": [],
      "authorship_tag": "ABX9TyN/Z8d06GKyRJX+dXXE919m",
      "include_colab_link": true
    },
    "kernelspec": {
      "name": "python3",
      "display_name": "Python 3"
    },
    "language_info": {
      "name": "python"
    }
  },
  "cells": [
    {
      "cell_type": "markdown",
      "metadata": {
        "id": "view-in-github",
        "colab_type": "text"
      },
      "source": [
        "<a href=\"https://colab.research.google.com/github/Drishti05/Python-for-Data-Science-Machine-Learning-from-A-Z/blob/main/Python_for_Data_Science/Variables.ipynb\" target=\"_parent\"><img src=\"https://colab.research.google.com/assets/colab-badge.svg\" alt=\"Open In Colab\"/></a>"
      ]
    },
    {
      "cell_type": "markdown",
      "metadata": {
        "id": "A10DCzwLUavR"
      },
      "source": [
        "# Variables\n"
      ]
    },
    {
      "cell_type": "code",
      "metadata": {
        "id": "0VNFLGsBUcxG"
      },
      "source": [
        "a=4"
      ],
      "execution_count": null,
      "outputs": []
    },
    {
      "cell_type": "code",
      "metadata": {
        "id": "txwk6fubUfoB",
        "colab": {
          "base_uri": "https://localhost:8080/"
        },
        "outputId": "4d75d911-af6d-4f3c-fe9c-029ea5357fed"
      },
      "source": [
        "a"
      ],
      "execution_count": null,
      "outputs": [
        {
          "output_type": "execute_result",
          "data": {
            "text/plain": [
              "4"
            ]
          },
          "metadata": {},
          "execution_count": 2
        }
      ]
    },
    {
      "cell_type": "markdown",
      "metadata": {
        "id": "-PsIvdwAqHJu"
      },
      "source": [
        "Variables can only store one value at a time as value 4 is replaced by 5"
      ]
    },
    {
      "cell_type": "code",
      "metadata": {
        "colab": {
          "base_uri": "https://localhost:8080/"
        },
        "id": "bsW49MWxqCN1",
        "outputId": "126ff11b-3e32-4ed2-831b-85e6625f4b2b"
      },
      "source": [
        "a=5\n",
        "a"
      ],
      "execution_count": null,
      "outputs": [
        {
          "output_type": "execute_result",
          "data": {
            "text/plain": [
              "5"
            ]
          },
          "metadata": {},
          "execution_count": 3
        }
      ]
    },
    {
      "cell_type": "markdown",
      "metadata": {
        "id": "j19WVelk7os_"
      },
      "source": [
        "Copy the value of variable into another variable"
      ]
    },
    {
      "cell_type": "code",
      "metadata": {
        "colab": {
          "base_uri": "https://localhost:8080/"
        },
        "id": "CsAP0fWPqFKl",
        "outputId": "927873d6-7480-4b75-da7e-a01750e778c5"
      },
      "source": [
        "a=10\n",
        "b=12\n",
        "\n",
        "a=b\n",
        "a"
      ],
      "execution_count": null,
      "outputs": [
        {
          "output_type": "execute_result",
          "data": {
            "text/plain": [
              "12"
            ]
          },
          "metadata": {},
          "execution_count": 4
        }
      ]
    },
    {
      "cell_type": "code",
      "metadata": {
        "colab": {
          "base_uri": "https://localhost:8080/"
        },
        "id": "JzwTB8JC7uLD",
        "outputId": "3ec945a7-01fe-44e0-c282-c062cf77fa79"
      },
      "source": [
        "b\n"
      ],
      "execution_count": null,
      "outputs": [
        {
          "output_type": "execute_result",
          "data": {
            "text/plain": [
              "12"
            ]
          },
          "metadata": {},
          "execution_count": 5
        }
      ]
    },
    {
      "cell_type": "markdown",
      "metadata": {
        "id": "nuSVYXaoD57U"
      },
      "source": [
        "# Naming of Variables"
      ]
    },
    {
      "cell_type": "markdown",
      "metadata": {
        "id": "AwRmMN2HEBV6"
      },
      "source": [
        "##Case Sensitive"
      ]
    },
    {
      "cell_type": "code",
      "metadata": {
        "colab": {
          "base_uri": "https://localhost:8080/"
        },
        "id": "D7fXWJnkD-qe",
        "outputId": "e2ce6576-dc96-45dc-8cb1-cd588d703963"
      },
      "source": [
        "a=90\n",
        "a"
      ],
      "execution_count": null,
      "outputs": [
        {
          "output_type": "execute_result",
          "data": {
            "text/plain": [
              "90"
            ]
          },
          "metadata": {},
          "execution_count": 6
        }
      ]
    },
    {
      "cell_type": "code",
      "metadata": {
        "colab": {
          "base_uri": "https://localhost:8080/"
        },
        "id": "H7drlOiqEJ1R",
        "outputId": "d634001e-72e9-4f75-f291-b5021c26d19f"
      },
      "source": [
        "A=100\n",
        "A"
      ],
      "execution_count": null,
      "outputs": [
        {
          "output_type": "execute_result",
          "data": {
            "text/plain": [
              "100"
            ]
          },
          "metadata": {},
          "execution_count": 7
        }
      ]
    },
    {
      "cell_type": "code",
      "metadata": {
        "colab": {
          "base_uri": "https://localhost:8080/"
        },
        "id": "FjWHZig0EL40",
        "outputId": "ca6b3321-e1a3-4d06-b4e3-4ae4965470e5"
      },
      "source": [
        "a"
      ],
      "execution_count": null,
      "outputs": [
        {
          "output_type": "execute_result",
          "data": {
            "text/plain": [
              "90"
            ]
          },
          "metadata": {},
          "execution_count": 8
        }
      ]
    },
    {
      "cell_type": "markdown",
      "metadata": {
        "id": "5NIsb76WE--Y"
      },
      "source": [
        "## Variable Naming"
      ]
    },
    {
      "cell_type": "code",
      "metadata": {
        "colab": {
          "base_uri": "https://localhost:8080/"
        },
        "id": "V2IUd6WRFBh0",
        "outputId": "5ebe1143-8cb1-49cf-a07f-a49777fefc38"
      },
      "source": [
        "a1=10\n",
        "a1"
      ],
      "execution_count": null,
      "outputs": [
        {
          "output_type": "execute_result",
          "data": {
            "text/plain": [
              "10"
            ]
          },
          "metadata": {},
          "execution_count": 9
        }
      ]
    },
    {
      "cell_type": "code",
      "metadata": {
        "colab": {
          "base_uri": "https://localhost:8080/"
        },
        "id": "HSyVqTUlGo5M",
        "outputId": "bcc95333-7869-4bd5-838a-1e2d3aece018"
      },
      "source": [
        "b2=90\n",
        "b2"
      ],
      "execution_count": null,
      "outputs": [
        {
          "output_type": "execute_result",
          "data": {
            "text/plain": [
              "90"
            ]
          },
          "metadata": {},
          "execution_count": 10
        }
      ]
    },
    {
      "cell_type": "code",
      "metadata": {
        "colab": {
          "base_uri": "https://localhost:8080/"
        },
        "id": "YINmLe9PGw6o",
        "outputId": "a960fbcb-4a92-4e6e-e40c-c74810f83848"
      },
      "source": [
        "a123456777=30\n",
        "a123456777"
      ],
      "execution_count": null,
      "outputs": [
        {
          "output_type": "execute_result",
          "data": {
            "text/plain": [
              "30"
            ]
          },
          "metadata": {},
          "execution_count": 11
        }
      ]
    },
    {
      "cell_type": "code",
      "metadata": {
        "colab": {
          "base_uri": "https://localhost:8080/",
          "height": 130
        },
        "id": "JmHNlL9QTNqg",
        "outputId": "163f5010-c8a2-4fed-c6de-d646c9c4eb11"
      },
      "source": [
        "1a=20"
      ],
      "execution_count": null,
      "outputs": [
        {
          "output_type": "error",
          "ename": "SyntaxError",
          "evalue": "ignored",
          "traceback": [
            "\u001b[0;36m  File \u001b[0;32m\"<ipython-input-12-b31554ffbd7a>\"\u001b[0;36m, line \u001b[0;32m1\u001b[0m\n\u001b[0;31m    1a=20\u001b[0m\n\u001b[0m     ^\u001b[0m\n\u001b[0;31mSyntaxError\u001b[0m\u001b[0;31m:\u001b[0m invalid syntax\n"
          ]
        }
      ]
    },
    {
      "cell_type": "code",
      "metadata": {
        "colab": {
          "base_uri": "https://localhost:8080/",
          "height": 130
        },
        "id": "Ul0ox-H0TPvq",
        "outputId": "180355f5-8876-455e-d866-7c3a27c53b88"
      },
      "source": [
        "$=20"
      ],
      "execution_count": null,
      "outputs": [
        {
          "output_type": "error",
          "ename": "SyntaxError",
          "evalue": "ignored",
          "traceback": [
            "\u001b[0;36m  File \u001b[0;32m\"<ipython-input-13-a2f6fcacc362>\"\u001b[0;36m, line \u001b[0;32m1\u001b[0m\n\u001b[0;31m    $=20\u001b[0m\n\u001b[0m    ^\u001b[0m\n\u001b[0;31mSyntaxError\u001b[0m\u001b[0;31m:\u001b[0m invalid syntax\n"
          ]
        }
      ]
    },
    {
      "cell_type": "code",
      "metadata": {
        "colab": {
          "base_uri": "https://localhost:8080/"
        },
        "id": "dex-_nsbTVMy",
        "outputId": "be6b2847-0fcb-4e65-c15c-3d74c9dcbf1f"
      },
      "source": [
        "_=40\n",
        "_"
      ],
      "execution_count": null,
      "outputs": [
        {
          "output_type": "execute_result",
          "data": {
            "text/plain": [
              "40"
            ]
          },
          "metadata": {},
          "execution_count": 14
        }
      ]
    },
    {
      "cell_type": "markdown",
      "metadata": {
        "id": "_Atfkwy1T5tV"
      },
      "source": [
        "Cannot Output 2 variables at same time"
      ]
    },
    {
      "cell_type": "code",
      "metadata": {
        "colab": {
          "base_uri": "https://localhost:8080/"
        },
        "id": "FsnYbpBETei3",
        "outputId": "f1a616f0-1711-449b-db85-bb394e508ccd"
      },
      "source": [
        "a=9\n",
        "b=89\n",
        "a\n",
        "b"
      ],
      "execution_count": null,
      "outputs": [
        {
          "output_type": "execute_result",
          "data": {
            "text/plain": [
              "89"
            ]
          },
          "metadata": {},
          "execution_count": 15
        }
      ]
    },
    {
      "cell_type": "markdown",
      "metadata": {
        "id": "iSOzZ8CF4tfK"
      },
      "source": [
        "# Output Function"
      ]
    },
    {
      "cell_type": "code",
      "metadata": {
        "colab": {
          "base_uri": "https://localhost:8080/"
        },
        "id": "bNTpCnDWTeng",
        "outputId": "43f13456-9cc5-461a-bcc7-fddb490f638d"
      },
      "source": [
        "print(a)\n",
        "print(b)"
      ],
      "execution_count": null,
      "outputs": [
        {
          "output_type": "stream",
          "name": "stdout",
          "text": [
            "9\n",
            "89\n"
          ]
        }
      ]
    },
    {
      "cell_type": "code",
      "metadata": {
        "colab": {
          "base_uri": "https://localhost:8080/"
        },
        "id": "NFwCzW9f7DyJ",
        "outputId": "b4d214c2-509b-4e4a-f96d-9290425af5e5"
      },
      "source": [
        "print(a,b)"
      ],
      "execution_count": null,
      "outputs": [
        {
          "output_type": "stream",
          "name": "stdout",
          "text": [
            "9 89\n"
          ]
        }
      ]
    },
    {
      "cell_type": "code",
      "metadata": {
        "id": "TdfCaYJ1_Syf"
      },
      "source": [
        "a,b=3,4"
      ],
      "execution_count": null,
      "outputs": []
    },
    {
      "cell_type": "code",
      "metadata": {
        "id": "vowNQaM7_WK2",
        "colab": {
          "base_uri": "https://localhost:8080/"
        },
        "outputId": "5803d28c-6fa9-467a-d76c-afa550dace2b"
      },
      "source": [
        "print(a,b)"
      ],
      "execution_count": null,
      "outputs": [
        {
          "output_type": "stream",
          "name": "stdout",
          "text": [
            "3 4\n"
          ]
        }
      ]
    }
  ]
}