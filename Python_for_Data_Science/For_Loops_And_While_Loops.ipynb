{
  "nbformat": 4,
  "nbformat_minor": 0,
  "metadata": {
    "colab": {
      "name": "For Loops And While Loops.ipynb",
      "provenance": [],
      "authorship_tag": "ABX9TyNvmkfcltX/fg/LUd7RFEcJ",
      "include_colab_link": true
    },
    "kernelspec": {
      "name": "python3",
      "display_name": "Python 3"
    },
    "language_info": {
      "name": "python"
    }
  },
  "cells": [
    {
      "cell_type": "markdown",
      "metadata": {
        "id": "view-in-github",
        "colab_type": "text"
      },
      "source": [
        "<a href=\"https://colab.research.google.com/github/Drishti05/Python-for-Data-Science-Machine-Learning-from-A-Z/blob/main/Python_for_Data_Science/For_Loops_And_While_Loops.ipynb\" target=\"_parent\"><img src=\"https://colab.research.google.com/assets/colab-badge.svg\" alt=\"Open In Colab\"/></a>"
      ]
    },
    {
      "cell_type": "markdown",
      "metadata": {
        "id": "2A9UvMSmUQvo"
      },
      "source": [
        "# While\n"
      ]
    },
    {
      "cell_type": "code",
      "metadata": {
        "colab": {
          "base_uri": "https://localhost:8080/"
        },
        "id": "vd_jH_5DUyn0",
        "outputId": "e4980d95-d108-4997-d746-9f0c7504b97e"
      },
      "source": [
        "i=0\n",
        "\n",
        "while i!=3:\n",
        "  print(\"Run Loop\")\n",
        "  i=i+1"
      ],
      "execution_count": 1,
      "outputs": [
        {
          "output_type": "stream",
          "name": "stdout",
          "text": [
            "Run Loop\n",
            "Run Loop\n",
            "Run Loop\n"
          ]
        }
      ]
    },
    {
      "cell_type": "markdown",
      "metadata": {
        "id": "Tf6yU5j-VWkY"
      },
      "source": [
        "# For"
      ]
    },
    {
      "cell_type": "code",
      "metadata": {
        "colab": {
          "base_uri": "https://localhost:8080/"
        },
        "id": "cMK_zQOpVbVo",
        "outputId": "2d1b17f5-56d7-4763-9b4b-96a070a3508a"
      },
      "source": [
        "for x in range(3):\n",
        "  print(\"Run Loop\")"
      ],
      "execution_count": 2,
      "outputs": [
        {
          "output_type": "stream",
          "name": "stdout",
          "text": [
            "Run Loop\n",
            "Run Loop\n",
            "Run Loop\n"
          ]
        }
      ]
    }
  ]
}