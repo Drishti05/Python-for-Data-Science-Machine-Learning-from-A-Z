{
  "nbformat": 4,
  "nbformat_minor": 0,
  "metadata": {
    "colab": {
      "name": "Dictionary.ipynb",
      "provenance": [],
      "authorship_tag": "ABX9TyNObJ/sDXmSnNWim1+kRUoB",
      "include_colab_link": true
    },
    "kernelspec": {
      "name": "python3",
      "display_name": "Python 3"
    },
    "language_info": {
      "name": "python"
    }
  },
  "cells": [
    {
      "cell_type": "markdown",
      "metadata": {
        "id": "view-in-github",
        "colab_type": "text"
      },
      "source": [
        "<a href=\"https://colab.research.google.com/github/Drishti05/Python-for-Data-Science-Machine-Learning-from-A-Z/blob/main/Python_for_Data_Science/Dictionary.ipynb\" target=\"_parent\"><img src=\"https://colab.research.google.com/assets/colab-badge.svg\" alt=\"Open In Colab\"/></a>"
      ]
    },
    {
      "cell_type": "markdown",
      "metadata": {
        "id": "QgCrDhqlGU2B"
      },
      "source": [
        "# Dictionary"
      ]
    },
    {
      "cell_type": "markdown",
      "metadata": {
        "id": "FUOXHNzzGb2b"
      },
      "source": [
        "- Key-Value pair data structure\n",
        "- Can be indexed,but with its key\n",
        "- Keys are unique\n",
        "- Dictionaries do not have order"
      ]
    },
    {
      "cell_type": "code",
      "metadata": {
        "colab": {
          "base_uri": "https://localhost:8080/",
          "height": 182
        },
        "id": "QfzoxrICGW5J",
        "outputId": "b4d9009d-92ac-4580-e1c1-b680f6f51178"
      },
      "source": [
        "my_dict={1:2,\"ahmed\":4,2.3:[\"a\",5,2.1]}\n",
        "print(my_dict[4])"
      ],
      "execution_count": 1,
      "outputs": [
        {
          "output_type": "error",
          "ename": "KeyError",
          "evalue": "ignored",
          "traceback": [
            "\u001b[0;31m---------------------------------------------------------------------------\u001b[0m",
            "\u001b[0;31mKeyError\u001b[0m                                  Traceback (most recent call last)",
            "\u001b[0;32m<ipython-input-1-4d1a57061a96>\u001b[0m in \u001b[0;36m<module>\u001b[0;34m()\u001b[0m\n\u001b[1;32m      1\u001b[0m \u001b[0mmy_dict\u001b[0m\u001b[0;34m=\u001b[0m\u001b[0;34m{\u001b[0m\u001b[0;36m1\u001b[0m\u001b[0;34m:\u001b[0m\u001b[0;36m2\u001b[0m\u001b[0;34m,\u001b[0m\u001b[0;34m\"ahmed\"\u001b[0m\u001b[0;34m:\u001b[0m\u001b[0;36m4\u001b[0m\u001b[0;34m,\u001b[0m\u001b[0;36m2.3\u001b[0m\u001b[0;34m:\u001b[0m\u001b[0;34m[\u001b[0m\u001b[0;34m\"a\"\u001b[0m\u001b[0;34m,\u001b[0m\u001b[0;36m5\u001b[0m\u001b[0;34m,\u001b[0m\u001b[0;36m2.1\u001b[0m\u001b[0;34m]\u001b[0m\u001b[0;34m}\u001b[0m\u001b[0;34m\u001b[0m\u001b[0;34m\u001b[0m\u001b[0m\n\u001b[0;32m----> 2\u001b[0;31m \u001b[0mprint\u001b[0m\u001b[0;34m(\u001b[0m\u001b[0mmy_dict\u001b[0m\u001b[0;34m[\u001b[0m\u001b[0;36m4\u001b[0m\u001b[0;34m]\u001b[0m\u001b[0;34m)\u001b[0m\u001b[0;34m\u001b[0m\u001b[0;34m\u001b[0m\u001b[0m\n\u001b[0m",
            "\u001b[0;31mKeyError\u001b[0m: 4"
          ]
        }
      ]
    },
    {
      "cell_type": "markdown",
      "metadata": {
        "id": "Oyb8IxjHHcb7"
      },
      "source": [
        "## check key existence"
      ]
    },
    {
      "cell_type": "code",
      "metadata": {
        "colab": {
          "base_uri": "https://localhost:8080/"
        },
        "id": "V-v0PEffHbli",
        "outputId": "215ca75c-4ffa-4ec0-a907-88adc4b15866"
      },
      "source": [
        "print(1 in my_dict)"
      ],
      "execution_count": 2,
      "outputs": [
        {
          "output_type": "stream",
          "name": "stdout",
          "text": [
            "True\n"
          ]
        }
      ]
    },
    {
      "cell_type": "markdown",
      "metadata": {
        "id": "IphPZvIoHvwl"
      },
      "source": [
        "## To acess the values of key without syntax error"
      ]
    },
    {
      "cell_type": "markdown",
      "metadata": {
        "id": "U0teBqdFKK50"
      },
      "source": [
        "- Using the in operator"
      ]
    },
    {
      "cell_type": "code",
      "metadata": {
        "colab": {
          "base_uri": "https://localhost:8080/"
        },
        "id": "ZZk1t6tTH3O5",
        "outputId": "e97c5657-c50d-4fea-fe3d-feeb68f311c1"
      },
      "source": [
        "print(my_dict.get(4))"
      ],
      "execution_count": 4,
      "outputs": [
        {
          "output_type": "stream",
          "name": "stdout",
          "text": [
            "None\n"
          ]
        }
      ]
    },
    {
      "cell_type": "code",
      "metadata": {
        "colab": {
          "base_uri": "https://localhost:8080/"
        },
        "id": "UswCl2Y7IGxX",
        "outputId": "7781d4e5-5cfa-4414-9ae6-f98933fdb100"
      },
      "source": [
        "print(my_dict.get(1))"
      ],
      "execution_count": 5,
      "outputs": [
        {
          "output_type": "stream",
          "name": "stdout",
          "text": [
            "2\n"
          ]
        }
      ]
    },
    {
      "cell_type": "markdown",
      "metadata": {
        "id": "NZrMVqDcIRPL"
      },
      "source": [
        "## Repeated Keys"
      ]
    },
    {
      "cell_type": "markdown",
      "metadata": {
        "id": "bgWtNi12ImYy"
      },
      "source": [
        "- It will overwrite with the latest key"
      ]
    },
    {
      "cell_type": "code",
      "metadata": {
        "colab": {
          "base_uri": "https://localhost:8080/"
        },
        "id": "N3-mm5j9IVgm",
        "outputId": "a02e72f5-5fac-4fba-f309-ab571215eb5e"
      },
      "source": [
        "my_dict={1:2,\"ahmed\":4,1:[\"a\",5,2.1]}\n",
        "print(my_dict)"
      ],
      "execution_count": 6,
      "outputs": [
        {
          "output_type": "stream",
          "name": "stdout",
          "text": [
            "{1: ['a', 5, 2.1], 'ahmed': 4}\n"
          ]
        }
      ]
    },
    {
      "cell_type": "code",
      "metadata": {
        "colab": {
          "base_uri": "https://localhost:8080/"
        },
        "id": "c4SJYL4NJ-td",
        "outputId": "8a64bc56-fbca-4220-a704-0fdddc190ddc"
      },
      "source": [
        "grocery_dict={'melon':2, \"Apple\":3, \"Strawberry\":5, 'Apple':10}\n",
        "print(grocery_dict)"
      ],
      "execution_count": 11,
      "outputs": [
        {
          "output_type": "stream",
          "name": "stdout",
          "text": [
            "{'melon': 2, 'Apple': 10, 'Strawberry': 5}\n"
          ]
        }
      ]
    },
    {
      "cell_type": "code",
      "metadata": {
        "colab": {
          "base_uri": "https://localhost:8080/"
        },
        "id": "gvGnEGEiI7Sh",
        "outputId": "920de62f-e49a-4851-f9f7-d069993b903b"
      },
      "source": [
        "grocery_dict={ }\n",
        "print(grocery_dict)\n",
        "print(type(grocery_dict))\n",
        "\n",
        "grocery_dict={'melon':2, \"Apple\":3, \"Strawberry\":5}\n",
        "print(grocery_dict)\n",
        "print(type(grocery_dict))\n",
        "\n"
      ],
      "execution_count": 8,
      "outputs": [
        {
          "output_type": "stream",
          "name": "stdout",
          "text": [
            "{}\n",
            "<class 'dict'>\n",
            "{'melon': 2, 'Apple': 3, 'Strawberry': 5}\n",
            "<class 'dict'>\n"
          ]
        }
      ]
    },
    {
      "cell_type": "code",
      "metadata": {
        "colab": {
          "base_uri": "https://localhost:8080/"
        },
        "id": "QN52LM3zJuES",
        "outputId": "a796c832-cbad-4d86-8e08-59415df89cea"
      },
      "source": [
        "print(grocery_dict['melon'])"
      ],
      "execution_count": 10,
      "outputs": [
        {
          "output_type": "stream",
          "name": "stdout",
          "text": [
            "2\n"
          ]
        }
      ]
    },
    {
      "cell_type": "markdown",
      "metadata": {
        "id": "veR87_JrKkeQ"
      },
      "source": [
        "## Dictionary Functions\n"
      ]
    },
    {
      "cell_type": "code",
      "metadata": {
        "colab": {
          "base_uri": "https://localhost:8080/"
        },
        "id": "nLmjilEdKpOB",
        "outputId": "9be3d4ee-f6ab-4325-9c34-eee12babc856"
      },
      "source": [
        " tel = {'jack': 4098, 'sape': 4139}\n",
        " tel['guido'] = 4127\n",
        " tel"
      ],
      "execution_count": 12,
      "outputs": [
        {
          "output_type": "execute_result",
          "data": {
            "text/plain": [
              "{'guido': 4127, 'jack': 4098, 'sape': 4139}"
            ]
          },
          "metadata": {},
          "execution_count": 12
        }
      ]
    },
    {
      "cell_type": "code",
      "metadata": {
        "colab": {
          "base_uri": "https://localhost:8080/"
        },
        "id": "1GLafKNcK0yD",
        "outputId": "988f7010-18da-4401-dec5-d95e68d3f509"
      },
      "source": [
        "tel['jack']"
      ],
      "execution_count": 13,
      "outputs": [
        {
          "output_type": "execute_result",
          "data": {
            "text/plain": [
              "4098"
            ]
          },
          "metadata": {},
          "execution_count": 13
        }
      ]
    },
    {
      "cell_type": "code",
      "metadata": {
        "id": "1mzfJdIxK1m9"
      },
      "source": [
        " del tel['sape']"
      ],
      "execution_count": 14,
      "outputs": []
    },
    {
      "cell_type": "code",
      "metadata": {
        "colab": {
          "base_uri": "https://localhost:8080/"
        },
        "id": "lPd2jvlgK7Hb",
        "outputId": "bd195306-15d3-4ad0-bd36-c337a66477e1"
      },
      "source": [
        "tel['irv'] = 4127\n",
        "tel"
      ],
      "execution_count": 16,
      "outputs": [
        {
          "output_type": "execute_result",
          "data": {
            "text/plain": [
              "{'guido': 4127, 'irv': 4127, 'jack': 4098}"
            ]
          },
          "metadata": {},
          "execution_count": 16
        }
      ]
    },
    {
      "cell_type": "code",
      "metadata": {
        "colab": {
          "base_uri": "https://localhost:8080/"
        },
        "id": "PDXsq5sIK_Zf",
        "outputId": "45a82f49-f75b-49d8-dac0-0b59e90e4ea5"
      },
      "source": [
        "list(tel)"
      ],
      "execution_count": 17,
      "outputs": [
        {
          "output_type": "execute_result",
          "data": {
            "text/plain": [
              "['jack', 'guido', 'irv']"
            ]
          },
          "metadata": {},
          "execution_count": 17
        }
      ]
    },
    {
      "cell_type": "code",
      "metadata": {
        "colab": {
          "base_uri": "https://localhost:8080/"
        },
        "id": "eV_LDdaBLFUE",
        "outputId": "9d400aff-c7b5-429b-c32a-f2b133df8785"
      },
      "source": [
        "sorted(tel)"
      ],
      "execution_count": 18,
      "outputs": [
        {
          "output_type": "execute_result",
          "data": {
            "text/plain": [
              "['guido', 'irv', 'jack']"
            ]
          },
          "metadata": {},
          "execution_count": 18
        }
      ]
    },
    {
      "cell_type": "code",
      "metadata": {
        "colab": {
          "base_uri": "https://localhost:8080/"
        },
        "id": "CFpmOTu5LIaF",
        "outputId": "9e628da7-a9b4-456e-a607-9237cf42db3d"
      },
      "source": [
        "'guido' in tel"
      ],
      "execution_count": 19,
      "outputs": [
        {
          "output_type": "execute_result",
          "data": {
            "text/plain": [
              "True"
            ]
          },
          "metadata": {},
          "execution_count": 19
        }
      ]
    },
    {
      "cell_type": "code",
      "metadata": {
        "colab": {
          "base_uri": "https://localhost:8080/"
        },
        "id": "EXsMklmgLLim",
        "outputId": "1e74872b-bee1-4d06-ce5d-3287ea8b0102"
      },
      "source": [
        "'jack' not in tel"
      ],
      "execution_count": 20,
      "outputs": [
        {
          "output_type": "execute_result",
          "data": {
            "text/plain": [
              "False"
            ]
          },
          "metadata": {},
          "execution_count": 20
        }
      ]
    },
    {
      "cell_type": "code",
      "metadata": {
        "colab": {
          "base_uri": "https://localhost:8080/"
        },
        "id": "sG24EOz8LPDA",
        "outputId": "363417a1-10ad-4d4b-a734-271d03d79956"
      },
      "source": [
        "dict([('sape', 4139), ('guido', 4127), ('jack', 4098)])"
      ],
      "execution_count": 21,
      "outputs": [
        {
          "output_type": "execute_result",
          "data": {
            "text/plain": [
              "{'guido': 4127, 'jack': 4098, 'sape': 4139}"
            ]
          },
          "metadata": {},
          "execution_count": 21
        }
      ]
    },
    {
      "cell_type": "code",
      "metadata": {
        "colab": {
          "base_uri": "https://localhost:8080/"
        },
        "id": "eSWn16zjLXUk",
        "outputId": "67261e73-5a10-4ae7-ae45-0cfe05579e93"
      },
      "source": [
        "{x: x**2 for x in (2, 4, 6)}"
      ],
      "execution_count": 22,
      "outputs": [
        {
          "output_type": "execute_result",
          "data": {
            "text/plain": [
              "{2: 4, 4: 16, 6: 36}"
            ]
          },
          "metadata": {},
          "execution_count": 22
        }
      ]
    },
    {
      "cell_type": "code",
      "metadata": {
        "colab": {
          "base_uri": "https://localhost:8080/"
        },
        "id": "G_mT9rSALdcI",
        "outputId": "c9ac62af-5671-4a73-baeb-c1a9d73ab692"
      },
      "source": [
        "dict(sape=4139, guido=4127, jack=4098)"
      ],
      "execution_count": 23,
      "outputs": [
        {
          "output_type": "execute_result",
          "data": {
            "text/plain": [
              "{'guido': 4127, 'jack': 4098, 'sape': 4139}"
            ]
          },
          "metadata": {},
          "execution_count": 23
        }
      ]
    },
    {
      "cell_type": "markdown",
      "metadata": {
        "id": "Jkn7V1_KL0Zu"
      },
      "source": [
        "## clear function"
      ]
    },
    {
      "cell_type": "code",
      "metadata": {
        "colab": {
          "base_uri": "https://localhost:8080/"
        },
        "id": "w83VDeIYL22T",
        "outputId": "594930d6-247d-452d-ae7a-07a3052518fd"
      },
      "source": [
        "grocery_dict={'melon':2, \"Apple\":3, \"Strawberry\":5, 'Apple':10}\n",
        "print(grocery_dict)\n",
        "\n",
        "grocery_dict.clear()\n",
        "print(grocery_dict)"
      ],
      "execution_count": 24,
      "outputs": [
        {
          "output_type": "stream",
          "name": "stdout",
          "text": [
            "{'melon': 2, 'Apple': 10, 'Strawberry': 5}\n",
            "{}\n"
          ]
        }
      ]
    },
    {
      "cell_type": "markdown",
      "metadata": {
        "id": "9h8EJMGZMM92"
      },
      "source": [
        "## copy function"
      ]
    },
    {
      "cell_type": "code",
      "metadata": {
        "colab": {
          "base_uri": "https://localhost:8080/"
        },
        "id": "bpmxP7jiMPtH",
        "outputId": "30cbad58-5043-4cd8-a82e-da201615e8d8"
      },
      "source": [
        "grocery_dict={'melon':2, \"Apple\":3, \"Strawberry\":5, 'Apple':10}\n",
        "print(grocery_dict)\n",
        "\n",
        "grocery_dict_copy=grocery_dict.copy()\n",
        "print(grocery_dict_copy)"
      ],
      "execution_count": 25,
      "outputs": [
        {
          "output_type": "stream",
          "name": "stdout",
          "text": [
            "{'melon': 2, 'Apple': 10, 'Strawberry': 5}\n",
            "{'melon': 2, 'Apple': 10, 'Strawberry': 5}\n"
          ]
        }
      ]
    },
    {
      "cell_type": "markdown",
      "metadata": {
        "id": "NuCVzO8jMhrx"
      },
      "source": [
        "## fromkey Function"
      ]
    },
    {
      "cell_type": "code",
      "metadata": {
        "colab": {
          "base_uri": "https://localhost:8080/"
        },
        "id": "eaZiwl_rMlbY",
        "outputId": "54a0dbe9-ba25-4f48-dc4b-4478630616ab"
      },
      "source": [
        "grocery_dict={'melon':2, \"Apple\":3, \"Strawberry\":5, 'Apple':10}\n",
        "print(grocery_dict)\n",
        "\n",
        "list_keys={\"Melon\",\"Apple\"}\n",
        "grocery_dict_from_key=grocery_dict.fromkeys(list_keys,[0,1,5])\n",
        "print(grocery_dict_from_key)\n",
        "print(grocery_dict)\n"
      ],
      "execution_count": 28,
      "outputs": [
        {
          "output_type": "stream",
          "name": "stdout",
          "text": [
            "{'melon': 2, 'Apple': 10, 'Strawberry': 5}\n",
            "{'Apple': [0, 1, 5], 'Melon': [0, 1, 5]}\n",
            "{'melon': 2, 'Apple': 10, 'Strawberry': 5}\n"
          ]
        }
      ]
    },
    {
      "cell_type": "markdown",
      "metadata": {
        "id": "00sWTqdcNuZZ"
      },
      "source": [
        "## items Function"
      ]
    },
    {
      "cell_type": "code",
      "metadata": {
        "colab": {
          "base_uri": "https://localhost:8080/"
        },
        "id": "VZoExsW8NzCH",
        "outputId": "685ac446-2629-4bd9-dda1-29dada1bef43"
      },
      "source": [
        "grocery_dict={'melon':2, \"Apple\":3, \"Strawberry\":5, 'Apple':10}\n",
        "print(grocery_dict)\n",
        "print(grocery_dict.items())"
      ],
      "execution_count": 29,
      "outputs": [
        {
          "output_type": "stream",
          "name": "stdout",
          "text": [
            "{'melon': 2, 'Apple': 10, 'Strawberry': 5}\n",
            "dict_items([('melon', 2), ('Apple', 10), ('Strawberry', 5)])\n"
          ]
        }
      ]
    },
    {
      "cell_type": "markdown",
      "metadata": {
        "id": "Zqw-yMPJOKZ6"
      },
      "source": [
        "## keys Function"
      ]
    },
    {
      "cell_type": "code",
      "metadata": {
        "colab": {
          "base_uri": "https://localhost:8080/"
        },
        "id": "DdKv12RAOIMC",
        "outputId": "506a5ded-5f9c-429c-9a2b-1bdcebc06e05"
      },
      "source": [
        "grocery_dict={'melon':2, \"Apple\":3, \"Strawberry\":5, 'Apple':10}\n",
        "print(grocery_dict)\n",
        "print(grocery_dict.keys())"
      ],
      "execution_count": 30,
      "outputs": [
        {
          "output_type": "stream",
          "name": "stdout",
          "text": [
            "{'melon': 2, 'Apple': 10, 'Strawberry': 5}\n",
            "dict_keys(['melon', 'Apple', 'Strawberry'])\n"
          ]
        }
      ]
    },
    {
      "cell_type": "markdown",
      "metadata": {
        "id": "QCiqezULOceN"
      },
      "source": [
        "## looping through dictionaries"
      ]
    },
    {
      "cell_type": "code",
      "metadata": {
        "colab": {
          "base_uri": "https://localhost:8080/"
        },
        "id": "EfNe3IqeOhd2",
        "outputId": "855bbcb7-09b9-4f02-dd7a-7f1e789ba225"
      },
      "source": [
        "grocery_dict={'melon':[2,1], \"Apple\":3, \"Strawberry\":5, 'Apple':10}\n",
        "for k,v in grocery_dict.items():\n",
        "  print(k,v)\n"
      ],
      "execution_count": 32,
      "outputs": [
        {
          "output_type": "stream",
          "name": "stdout",
          "text": [
            "melon [2, 1]\n",
            "Apple 10\n",
            "Strawberry 5\n"
          ]
        }
      ]
    }
  ]
}