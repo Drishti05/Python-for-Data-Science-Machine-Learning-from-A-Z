{
  "nbformat": 4,
  "nbformat_minor": 0,
  "metadata": {
    "colab": {
      "name": "Python Lists.ipynb",
      "provenance": [],
      "authorship_tag": "ABX9TyOhl9Q1DEoY/X/vrl57yjOS",
      "include_colab_link": true
    },
    "kernelspec": {
      "name": "python3",
      "display_name": "Python 3"
    },
    "language_info": {
      "name": "python"
    }
  },
  "cells": [
    {
      "cell_type": "markdown",
      "metadata": {
        "id": "view-in-github",
        "colab_type": "text"
      },
      "source": [
        "<a href=\"https://colab.research.google.com/github/Drishti05/Python-for-Data-Science-Machine-Learning-from-A-Z/blob/main/Python_for_Data_Science/Python_Lists.ipynb\" target=\"_parent\"><img src=\"https://colab.research.google.com/assets/colab-badge.svg\" alt=\"Open In Colab\"/></a>"
      ]
    },
    {
      "cell_type": "markdown",
      "metadata": {
        "id": "HSHOTuIcV_f3"
      },
      "source": [
        "# Lists"
      ]
    },
    {
      "cell_type": "markdown",
      "metadata": {
        "id": "Zo1WK7j7d3M4"
      },
      "source": [
        "- List is collection of any objects\n",
        "- we use square brackets[]\n",
        "- we separate elements using comma\n",
        "- Strings are immutable whereas lists are mutable\n",
        "- Lists are ordered\n"
      ]
    },
    {
      "cell_type": "markdown",
      "metadata": {
        "id": "zPH7yeYlfE6F"
      },
      "source": [
        "## Creating Lists"
      ]
    },
    {
      "cell_type": "code",
      "metadata": {
        "id": "ms6N5K9UfENJ"
      },
      "source": [
        "x=2\n",
        "y=4.2\n",
        "z=\"ahmed\"\n",
        "f=False"
      ],
      "execution_count": 6,
      "outputs": []
    },
    {
      "cell_type": "code",
      "metadata": {
        "id": "mMJUb_GTfSGU"
      },
      "source": [
        "my_list=[x,y,z,f]"
      ],
      "execution_count": 7,
      "outputs": []
    },
    {
      "cell_type": "code",
      "metadata": {
        "colab": {
          "base_uri": "https://localhost:8080/"
        },
        "id": "3GvXHTRYfcf1",
        "outputId": "e15b6bd0-136b-4de4-c82c-d7ce18c330e8"
      },
      "source": [
        "print(my_list)"
      ],
      "execution_count": 8,
      "outputs": [
        {
          "output_type": "stream",
          "name": "stdout",
          "text": [
            "[2, 4.2, 'ahmed', False]\n"
          ]
        }
      ]
    },
    {
      "cell_type": "code",
      "metadata": {
        "colab": {
          "base_uri": "https://localhost:8080/"
        },
        "id": "OlfVP7qKf20C",
        "outputId": "6dcc9774-caeb-40dc-a7ce-2b80aebfbc8d"
      },
      "source": [
        "print(type(my_list))"
      ],
      "execution_count": 9,
      "outputs": [
        {
          "output_type": "stream",
          "name": "stdout",
          "text": [
            "<class 'list'>\n"
          ]
        }
      ]
    },
    {
      "cell_type": "markdown",
      "metadata": {
        "id": "LuBxN_d3f_oq"
      },
      "source": [
        "## Mutability"
      ]
    },
    {
      "cell_type": "code",
      "metadata": {
        "id": "_LRNBQvCgBoM"
      },
      "source": [
        "List_example= [1,2,3]\n",
        "List_example[1]=\"ahmed\""
      ],
      "execution_count": 11,
      "outputs": []
    },
    {
      "cell_type": "code",
      "metadata": {
        "colab": {
          "base_uri": "https://localhost:8080/"
        },
        "id": "lotQedRhgLND",
        "outputId": "c9d134db-44d2-4866-abb2-648a6d52e8aa"
      },
      "source": [
        "print(List_example)"
      ],
      "execution_count": 12,
      "outputs": [
        {
          "output_type": "stream",
          "name": "stdout",
          "text": [
            "[1, 'ahmed', 3]\n"
          ]
        }
      ]
    },
    {
      "cell_type": "code",
      "metadata": {
        "colab": {
          "base_uri": "https://localhost:8080/",
          "height": 182
        },
        "id": "-p1G2_ZPggCJ",
        "outputId": "b9450e6f-aacd-401c-f33c-4c47a1775632"
      },
      "source": [
        "String_example=\"Python Course\"\n",
        "String_example[0]=\"A\""
      ],
      "execution_count": 13,
      "outputs": [
        {
          "output_type": "error",
          "ename": "TypeError",
          "evalue": "ignored",
          "traceback": [
            "\u001b[0;31m---------------------------------------------------------------------------\u001b[0m",
            "\u001b[0;31mTypeError\u001b[0m                                 Traceback (most recent call last)",
            "\u001b[0;32m<ipython-input-13-fdec32f6262a>\u001b[0m in \u001b[0;36m<module>\u001b[0;34m()\u001b[0m\n\u001b[1;32m      1\u001b[0m \u001b[0mString_example\u001b[0m\u001b[0;34m=\u001b[0m\u001b[0;34m\"Python Course\"\u001b[0m\u001b[0;34m\u001b[0m\u001b[0;34m\u001b[0m\u001b[0m\n\u001b[0;32m----> 2\u001b[0;31m \u001b[0mString_example\u001b[0m\u001b[0;34m[\u001b[0m\u001b[0;36m0\u001b[0m\u001b[0;34m]\u001b[0m\u001b[0;34m=\u001b[0m\u001b[0;34m\"A\"\u001b[0m\u001b[0;34m\u001b[0m\u001b[0;34m\u001b[0m\u001b[0m\n\u001b[0m",
            "\u001b[0;31mTypeError\u001b[0m: 'str' object does not support item assignment"
          ]
        }
      ]
    },
    {
      "cell_type": "markdown",
      "metadata": {
        "id": "TUV9YV0xhSr7"
      },
      "source": [
        "## Ordering"
      ]
    },
    {
      "cell_type": "code",
      "metadata": {
        "colab": {
          "base_uri": "https://localhost:8080/"
        },
        "id": "wJfIjitAhMNS",
        "outputId": "38ecf578-bb3f-49d8-adac-65be4fc91c87"
      },
      "source": [
        "print(List_example[0])"
      ],
      "execution_count": 15,
      "outputs": [
        {
          "output_type": "stream",
          "name": "stdout",
          "text": [
            "1\n"
          ]
        }
      ]
    },
    {
      "cell_type": "code",
      "metadata": {
        "colab": {
          "base_uri": "https://localhost:8080/",
          "height": 165
        },
        "id": "UafDYKxph57X",
        "outputId": "9ab6626d-a60c-4487-fa23-9eca2581c469"
      },
      "source": [
        "print(List_example[3])"
      ],
      "execution_count": 16,
      "outputs": [
        {
          "output_type": "error",
          "ename": "IndexError",
          "evalue": "ignored",
          "traceback": [
            "\u001b[0;31m---------------------------------------------------------------------------\u001b[0m",
            "\u001b[0;31mIndexError\u001b[0m                                Traceback (most recent call last)",
            "\u001b[0;32m<ipython-input-16-8d73e49533f7>\u001b[0m in \u001b[0;36m<module>\u001b[0;34m()\u001b[0m\n\u001b[0;32m----> 1\u001b[0;31m \u001b[0mprint\u001b[0m\u001b[0;34m(\u001b[0m\u001b[0mList_example\u001b[0m\u001b[0;34m[\u001b[0m\u001b[0;36m3\u001b[0m\u001b[0;34m]\u001b[0m\u001b[0;34m)\u001b[0m\u001b[0;34m\u001b[0m\u001b[0;34m\u001b[0m\u001b[0m\n\u001b[0m",
            "\u001b[0;31mIndexError\u001b[0m: list index out of range"
          ]
        }
      ]
    },
    {
      "cell_type": "markdown",
      "metadata": {
        "id": "N3kqYeUveZVw"
      },
      "source": [
        "##List Slicing"
      ]
    },
    {
      "cell_type": "markdown",
      "metadata": {
        "id": "lLObUgKAeihh"
      },
      "source": [
        "- zero based"
      ]
    },
    {
      "cell_type": "code",
      "metadata": {
        "colab": {
          "base_uri": "https://localhost:8080/"
        },
        "id": "3vFN_Qwqd0pB",
        "outputId": "eb6af787-d495-4802-9f02-978c7a33bfca"
      },
      "source": [
        "List_example=[3,10,'a',2,100]\n",
        "print(List_example[1:2])\n",
        "print(List_example[1:3])"
      ],
      "execution_count": 17,
      "outputs": [
        {
          "output_type": "stream",
          "name": "stdout",
          "text": [
            "[10]\n",
            "[10, 'a']\n"
          ]
        }
      ]
    },
    {
      "cell_type": "markdown",
      "metadata": {
        "id": "cVwN52rHivDy"
      },
      "source": [
        "## Negative Slicing"
      ]
    },
    {
      "cell_type": "code",
      "metadata": {
        "colab": {
          "base_uri": "https://localhost:8080/"
        },
        "id": "qPLUFMtni1vb",
        "outputId": "c7392ab2-d828-46bd-a48d-ea8fbb1f51db"
      },
      "source": [
        "print(List_example[-1])\n",
        "print(List_example[-3:-1])\n",
        "print(List_example[-1:-3])"
      ],
      "execution_count": 18,
      "outputs": [
        {
          "output_type": "stream",
          "name": "stdout",
          "text": [
            "100\n",
            "['a', 2]\n",
            "[]\n"
          ]
        }
      ]
    },
    {
      "cell_type": "markdown",
      "metadata": {
        "id": "v3g_HdUikWS2"
      },
      "source": [
        "- start index should be less than end index"
      ]
    },
    {
      "cell_type": "code",
      "metadata": {
        "colab": {
          "base_uri": "https://localhost:8080/"
        },
        "id": "ClVR342qkQc7",
        "outputId": "08db6bbb-e80f-40d0-f254-7822595397ea"
      },
      "source": [
        "print(List_example[3:1])"
      ],
      "execution_count": 19,
      "outputs": [
        {
          "output_type": "stream",
          "name": "stdout",
          "text": [
            "[]\n"
          ]
        }
      ]
    },
    {
      "cell_type": "markdown",
      "metadata": {
        "id": "qjN_5fNodtUv"
      },
      "source": [
        "## Looping Lists"
      ]
    },
    {
      "cell_type": "code",
      "metadata": {
        "colab": {
          "base_uri": "https://localhost:8080/"
        },
        "id": "MdcLrFGvWMLW",
        "outputId": "a76a5d2c-26fd-429b-ea39-ab0f8d0d83f8"
      },
      "source": [
        "my_list=[1,2,3,4,'Python','is','neat']\n",
        "\n",
        "for x in my_list:\n",
        "  print(x)\n",
        "\n"
      ],
      "execution_count": 2,
      "outputs": [
        {
          "output_type": "stream",
          "name": "stdout",
          "text": [
            "1\n",
            "2\n",
            "3\n",
            "4\n",
            "Python\n",
            "is\n",
            "neat\n"
          ]
        }
      ]
    },
    {
      "cell_type": "markdown",
      "metadata": {
        "id": "5vzt191LXDFY"
      },
      "source": [
        "### break"
      ]
    },
    {
      "cell_type": "markdown",
      "metadata": {
        "id": "Dk_L_Z89XF2k"
      },
      "source": [
        "Stop the execution of the loop"
      ]
    },
    {
      "cell_type": "code",
      "metadata": {
        "colab": {
          "base_uri": "https://localhost:8080/"
        },
        "id": "SrCdiVbFXdp3",
        "outputId": "f3429705-9307-4cb1-a764-241da63ee433"
      },
      "source": [
        "for x in my_list:\n",
        "  if x=='Python':\n",
        "    break\n",
        "  print(x)"
      ],
      "execution_count": 3,
      "outputs": [
        {
          "output_type": "stream",
          "name": "stdout",
          "text": [
            "1\n",
            "2\n",
            "3\n",
            "4\n"
          ]
        }
      ]
    },
    {
      "cell_type": "markdown",
      "metadata": {
        "id": "wbiODe_rXw03"
      },
      "source": [
        "### continue"
      ]
    },
    {
      "cell_type": "markdown",
      "metadata": {
        "id": "JptPXmbUZIae"
      },
      "source": [
        "continue to the next item without executing the lines occuring after continue insidethe loop"
      ]
    },
    {
      "cell_type": "code",
      "metadata": {
        "colab": {
          "base_uri": "https://localhost:8080/"
        },
        "id": "k8U2aQoyZWUU",
        "outputId": "a0ed094a-c27a-4049-f04f-aa98661d2220"
      },
      "source": [
        "for x in my_list:\n",
        "  if x==1:\n",
        "    continue\n",
        "  print(x)"
      ],
      "execution_count": 4,
      "outputs": [
        {
          "output_type": "stream",
          "name": "stdout",
          "text": [
            "2\n",
            "3\n",
            "4\n",
            "Python\n",
            "is\n",
            "neat\n"
          ]
        }
      ]
    },
    {
      "cell_type": "markdown",
      "metadata": {
        "id": "psq5olm9cJQQ"
      },
      "source": [
        "### enumerate()"
      ]
    },
    {
      "cell_type": "markdown",
      "metadata": {
        "id": "9tNKXFbGcMty"
      },
      "source": [
        "In case we need to know the index "
      ]
    },
    {
      "cell_type": "code",
      "metadata": {
        "colab": {
          "base_uri": "https://localhost:8080/"
        },
        "id": "1wWk6-CScVW7",
        "outputId": "506e41ff-a699-4659-e97a-5f762f4dfa05"
      },
      "source": [
        "for idx,val in enumerate(my_list):\n",
        "  print('idx:{} ,val:{} '.format(idx,val))\n"
      ],
      "execution_count": 5,
      "outputs": [
        {
          "output_type": "stream",
          "name": "stdout",
          "text": [
            "idx:0 ,val:1 \n",
            "idx:1 ,val:2 \n",
            "idx:2 ,val:3 \n",
            "idx:3 ,val:4 \n",
            "idx:4 ,val:Python \n",
            "idx:5 ,val:is \n",
            "idx:6 ,val:neat \n"
          ]
        }
      ]
    }
  ]
}