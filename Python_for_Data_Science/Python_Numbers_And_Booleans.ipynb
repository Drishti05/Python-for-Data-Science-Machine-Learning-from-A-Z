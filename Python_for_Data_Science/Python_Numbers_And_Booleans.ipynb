{
  "nbformat": 4,
  "nbformat_minor": 0,
  "metadata": {
    "colab": {
      "name": "Python Numbers And Booleans.ipynb",
      "provenance": [],
      "authorship_tag": "ABX9TyMEnAACXhoPjECSjU5FQt3k",
      "include_colab_link": true
    },
    "kernelspec": {
      "name": "python3",
      "display_name": "Python 3"
    },
    "language_info": {
      "name": "python"
    }
  },
  "cells": [
    {
      "cell_type": "markdown",
      "metadata": {
        "id": "view-in-github",
        "colab_type": "text"
      },
      "source": [
        "<a href=\"https://colab.research.google.com/github/Drishti05/Python-for-Data-Science-Machine-Learning-from-A-Z/blob/main/Python_for_Data_Science/Python_Numbers_And_Booleans.ipynb\" target=\"_parent\"><img src=\"https://colab.research.google.com/assets/colab-badge.svg\" alt=\"Open In Colab\"/></a>"
      ]
    },
    {
      "cell_type": "markdown",
      "metadata": {
        "id": "mft5Up2WaYfI"
      },
      "source": [
        "#Numbers\n"
      ]
    },
    {
      "cell_type": "markdown",
      "metadata": {
        "id": "fQaQ7rAMadzU"
      },
      "source": [
        "## Integer -int"
      ]
    },
    {
      "cell_type": "code",
      "metadata": {
        "colab": {
          "base_uri": "https://localhost:8080/",
          "height": 130
        },
        "id": "tExLoPZwah-T",
        "outputId": "ba4fef2e-751f-439f-b382-efbd15be1ddd"
      },
      "source": [
        "int a=34"
      ],
      "execution_count": 1,
      "outputs": [
        {
          "output_type": "error",
          "ename": "SyntaxError",
          "evalue": "ignored",
          "traceback": [
            "\u001b[0;36m  File \u001b[0;32m\"<ipython-input-1-e7989e3cf39d>\"\u001b[0;36m, line \u001b[0;32m1\u001b[0m\n\u001b[0;31m    int a=34\u001b[0m\n\u001b[0m        ^\u001b[0m\n\u001b[0;31mSyntaxError\u001b[0m\u001b[0;31m:\u001b[0m invalid syntax\n"
          ]
        }
      ]
    },
    {
      "cell_type": "code",
      "metadata": {
        "id": "SeWExEndalEE"
      },
      "source": [
        "a=34"
      ],
      "execution_count": 12,
      "outputs": []
    },
    {
      "cell_type": "code",
      "metadata": {
        "colab": {
          "base_uri": "https://localhost:8080/"
        },
        "id": "FEufN7nAapZi",
        "outputId": "8bd586df-3c5d-4d93-9dc2-4e8cbeb12c91"
      },
      "source": [
        "a"
      ],
      "execution_count": 13,
      "outputs": [
        {
          "output_type": "execute_result",
          "data": {
            "text/plain": [
              "34"
            ]
          },
          "metadata": {},
          "execution_count": 13
        }
      ]
    },
    {
      "cell_type": "markdown",
      "metadata": {
        "id": "kHnTQ3B-a0lw"
      },
      "source": [
        "## Floating Point-float"
      ]
    },
    {
      "cell_type": "code",
      "metadata": {
        "id": "oSyxUfmpaq0B"
      },
      "source": [
        "b=3.4"
      ],
      "execution_count": 10,
      "outputs": []
    },
    {
      "cell_type": "code",
      "metadata": {
        "colab": {
          "base_uri": "https://localhost:8080/"
        },
        "id": "qsjWd0B2asnY",
        "outputId": "d8a25e53-c407-4fc5-d65f-fd87a1dea420"
      },
      "source": [
        "b"
      ],
      "execution_count": 11,
      "outputs": [
        {
          "output_type": "execute_result",
          "data": {
            "text/plain": [
              "3.4"
            ]
          },
          "metadata": {},
          "execution_count": 11
        }
      ]
    },
    {
      "cell_type": "markdown",
      "metadata": {
        "id": "ivfQg-3ObCNP"
      },
      "source": [
        "- type()"
      ]
    },
    {
      "cell_type": "code",
      "metadata": {
        "colab": {
          "base_uri": "https://localhost:8080/"
        },
        "id": "VNML3kdybBQe",
        "outputId": "5fecb34d-bccb-4907-d0d8-ed044fd80189"
      },
      "source": [
        "type(a)"
      ],
      "execution_count": 14,
      "outputs": [
        {
          "output_type": "execute_result",
          "data": {
            "text/plain": [
              "int"
            ]
          },
          "metadata": {},
          "execution_count": 14
        }
      ]
    },
    {
      "cell_type": "code",
      "metadata": {
        "colab": {
          "base_uri": "https://localhost:8080/"
        },
        "id": "3qem6M8VauJC",
        "outputId": "c4e619f0-8029-465a-eed0-f3c9b578c4ef"
      },
      "source": [
        "type(b)"
      ],
      "execution_count": 9,
      "outputs": [
        {
          "output_type": "execute_result",
          "data": {
            "text/plain": [
              "float"
            ]
          },
          "metadata": {},
          "execution_count": 9
        }
      ]
    },
    {
      "cell_type": "markdown",
      "metadata": {
        "id": "LBmciTiWbQfK"
      },
      "source": [
        "## Type Casting"
      ]
    },
    {
      "cell_type": "code",
      "metadata": {
        "colab": {
          "base_uri": "https://localhost:8080/"
        },
        "id": "NXRGivmPbV4k",
        "outputId": "9a913aa5-fd13-4d4a-881c-6fe021b9a6ec"
      },
      "source": [
        "divide=5/2\n",
        "print(divide)"
      ],
      "execution_count": 15,
      "outputs": [
        {
          "output_type": "stream",
          "name": "stdout",
          "text": [
            "2.5\n"
          ]
        }
      ]
    },
    {
      "cell_type": "markdown",
      "metadata": {
        "id": "VyGtfQjqbb7X"
      },
      "source": [
        "- int()\n",
        "- float()"
      ]
    },
    {
      "cell_type": "code",
      "metadata": {
        "colab": {
          "base_uri": "https://localhost:8080/"
        },
        "id": "hpt2TYKSbiDQ",
        "outputId": "de804c28-1269-469d-d37d-5fee9bf0a3b9"
      },
      "source": [
        "float(a)"
      ],
      "execution_count": 16,
      "outputs": [
        {
          "output_type": "execute_result",
          "data": {
            "text/plain": [
              "34.0"
            ]
          },
          "metadata": {},
          "execution_count": 16
        }
      ]
    },
    {
      "cell_type": "code",
      "metadata": {
        "colab": {
          "base_uri": "https://localhost:8080/"
        },
        "id": "qjJ5u1y-bj7D",
        "outputId": "05bcc840-7178-4f1e-ab54-9b8e48fdd1ba"
      },
      "source": [
        "int(divide)"
      ],
      "execution_count": 17,
      "outputs": [
        {
          "output_type": "execute_result",
          "data": {
            "text/plain": [
              "2"
            ]
          },
          "metadata": {},
          "execution_count": 17
        }
      ]
    },
    {
      "cell_type": "markdown",
      "metadata": {
        "id": "aNvnZazfbodX"
      },
      "source": [
        "# Boolean"
      ]
    },
    {
      "cell_type": "markdown",
      "metadata": {
        "id": "X3W2_9-ybrGJ"
      },
      "source": [
        "- True\n",
        "- False"
      ]
    },
    {
      "cell_type": "code",
      "metadata": {
        "id": "HYjKoQb-bp2G"
      },
      "source": [
        "r= True\n",
        "s= False"
      ],
      "execution_count": 18,
      "outputs": []
    },
    {
      "cell_type": "code",
      "metadata": {
        "colab": {
          "base_uri": "https://localhost:8080/"
        },
        "id": "5B4MiypDb4lZ",
        "outputId": "6db47e0e-4ba5-4b6d-e89d-9319e0461ec4"
      },
      "source": [
        "print(type(r))\n",
        "print(type(s))"
      ],
      "execution_count": 19,
      "outputs": [
        {
          "output_type": "stream",
          "name": "stdout",
          "text": [
            "<class 'bool'>\n",
            "<class 'bool'>\n"
          ]
        }
      ]
    }
  ]
}