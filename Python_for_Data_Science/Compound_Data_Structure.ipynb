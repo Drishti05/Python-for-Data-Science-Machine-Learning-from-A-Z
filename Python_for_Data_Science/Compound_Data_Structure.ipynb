{
  "nbformat": 4,
  "nbformat_minor": 0,
  "metadata": {
    "colab": {
      "name": "Compound Data Structure.ipynb",
      "provenance": [],
      "authorship_tag": "ABX9TyMv4Oh82frMZjmbyu6Mrn0E",
      "include_colab_link": true
    },
    "kernelspec": {
      "name": "python3",
      "display_name": "Python 3"
    },
    "language_info": {
      "name": "python"
    }
  },
  "cells": [
    {
      "cell_type": "markdown",
      "metadata": {
        "id": "view-in-github",
        "colab_type": "text"
      },
      "source": [
        "<a href=\"https://colab.research.google.com/github/Drishti05/Python-for-Data-Science-Machine-Learning-from-A-Z/blob/main/Python_for_Data_Science/Compound_Data_Structure.ipynb\" target=\"_parent\"><img src=\"https://colab.research.google.com/assets/colab-badge.svg\" alt=\"Open In Colab\"/></a>"
      ]
    },
    {
      "cell_type": "markdown",
      "metadata": {
        "id": "WXCjjXNNUDHV"
      },
      "source": [
        "- Python is very flexible in the values of any advanced data type"
      ]
    },
    {
      "cell_type": "code",
      "metadata": {
        "id": "8_-yzCXFUNwJ"
      },
      "source": [
        "my_dict={1:{1:[1,2,3,\"ahmed\"],3.2:(1,2,3)}}\n",
        "my_tuple=(1,2,{1:[\"tuple\",6]})\n",
        "my_list=[1,(5,1,\"a\"),6.6]"
      ],
      "execution_count": 1,
      "outputs": []
    },
    {
      "cell_type": "markdown",
      "metadata": {
        "id": "1muuxvdUVL2I"
      },
      "source": [
        "- we use lists when we don't have any special cases that we want to take care of, and we want our values to be ordered for indexing.\n",
        "- we use tuples only when we are sure that the values inside them should not be changed no matter what,so this is the best way to assure that.\n",
        "- we use dictionaries when we want to have some sort of relation between some unique variables and other non-unique variables , as we are only concerned with a key.\n",
        "- we use sets when we know that any repeated data will be redundant.so sets can be very efficient in ignoring redundant data and increase the performance of any algorithm."
      ]
    },
    {
      "cell_type": "code",
      "metadata": {
        "colab": {
          "base_uri": "https://localhost:8080/",
          "height": 53
        },
        "id": "3ryGieyjVg5F",
        "outputId": "87319d5e-0074-4a87-e084-109937a8421e"
      },
      "source": [
        "my_dict={1:{1:[1,2,3,\"ahmed\"],3.2:(1,2,3)}}\n",
        "print(my_dict[1])\n",
        "my_dict[1][1][3]"
      ],
      "execution_count": 5,
      "outputs": [
        {
          "output_type": "stream",
          "name": "stdout",
          "text": [
            "{1: [1, 2, 3, 'ahmed'], 3.2: (1, 2, 3)}\n"
          ]
        },
        {
          "output_type": "execute_result",
          "data": {
            "application/vnd.google.colaboratory.intrinsic+json": {
              "type": "string"
            },
            "text/plain": [
              "'ahmed'"
            ]
          },
          "metadata": {},
          "execution_count": 5
        }
      ]
    },
    {
      "cell_type": "code",
      "metadata": {
        "colab": {
          "base_uri": "https://localhost:8080/"
        },
        "id": "LclXsVvsh8Vf",
        "outputId": "a25dd8d9-65c2-4bbf-e4ff-49d987b39813"
      },
      "source": [
        "my_dict[1][3.2]"
      ],
      "execution_count": 6,
      "outputs": [
        {
          "output_type": "execute_result",
          "data": {
            "text/plain": [
              "(1, 2, 3)"
            ]
          },
          "metadata": {},
          "execution_count": 6
        }
      ]
    },
    {
      "cell_type": "code",
      "metadata": {
        "id": "rl6ALbEtiE39"
      },
      "source": [
        "my_list=[{1:[\"ahm\",\"ca\",\"bh\"]},[2,(3,4,8),4],\"ahmed\"]"
      ],
      "execution_count": 12,
      "outputs": []
    },
    {
      "cell_type": "code",
      "metadata": {
        "colab": {
          "base_uri": "https://localhost:8080/"
        },
        "id": "4XErZt1viFCJ",
        "outputId": "d0a90e59-cf0c-4de8-a9bb-de2b075a35e9"
      },
      "source": [
        "my_list[0]"
      ],
      "execution_count": 13,
      "outputs": [
        {
          "output_type": "execute_result",
          "data": {
            "text/plain": [
              "{1: ['ahm', 'ca', 'bh']}"
            ]
          },
          "metadata": {},
          "execution_count": 13
        }
      ]
    },
    {
      "cell_type": "code",
      "metadata": {
        "colab": {
          "base_uri": "https://localhost:8080/",
          "height": 35
        },
        "id": "OAbstTnijERO",
        "outputId": "5630d5f8-e56e-4cf6-ed67-66fbb2f132ed"
      },
      "source": [
        "my_list[0][1][1]"
      ],
      "execution_count": 14,
      "outputs": [
        {
          "output_type": "execute_result",
          "data": {
            "application/vnd.google.colaboratory.intrinsic+json": {
              "type": "string"
            },
            "text/plain": [
              "'ca'"
            ]
          },
          "metadata": {},
          "execution_count": 14
        }
      ]
    },
    {
      "cell_type": "code",
      "metadata": {
        "colab": {
          "base_uri": "https://localhost:8080/"
        },
        "id": "EEbXh9V0jzLf",
        "outputId": "a14c0086-6297-4e60-afd6-773bd7fe16c9"
      },
      "source": [
        "my_list[1][1]"
      ],
      "execution_count": 15,
      "outputs": [
        {
          "output_type": "execute_result",
          "data": {
            "text/plain": [
              "(3, 4, 8)"
            ]
          },
          "metadata": {},
          "execution_count": 15
        }
      ]
    },
    {
      "cell_type": "code",
      "metadata": {
        "colab": {
          "base_uri": "https://localhost:8080/"
        },
        "id": "8elnRUo7j9ER",
        "outputId": "10f63815-1b5b-4233-cba8-c0b4fbc0ca8e"
      },
      "source": [
        "my_list[1][1][2]"
      ],
      "execution_count": 16,
      "outputs": [
        {
          "output_type": "execute_result",
          "data": {
            "text/plain": [
              "8"
            ]
          },
          "metadata": {},
          "execution_count": 16
        }
      ]
    },
    {
      "cell_type": "code",
      "metadata": {
        "id": "qGVNsRUAkCE6"
      },
      "source": [
        "my_tuple=(1,2,{1:[\"tuple\",6]})"
      ],
      "execution_count": 17,
      "outputs": []
    },
    {
      "cell_type": "code",
      "metadata": {
        "colab": {
          "base_uri": "https://localhost:8080/"
        },
        "id": "Ngq_QigXkPlx",
        "outputId": "84fab972-55e7-4f70-dfda-1e6dcc0a2faa"
      },
      "source": [
        "my_tuple[2]"
      ],
      "execution_count": 18,
      "outputs": [
        {
          "output_type": "execute_result",
          "data": {
            "text/plain": [
              "{1: ['tuple', 6]}"
            ]
          },
          "metadata": {},
          "execution_count": 18
        }
      ]
    },
    {
      "cell_type": "code",
      "metadata": {
        "colab": {
          "base_uri": "https://localhost:8080/"
        },
        "id": "J9EPP1KBkVT_",
        "outputId": "1dd3f1bc-002d-40e9-d608-7ddbc6eff6d5"
      },
      "source": [
        "my_tuple[2][1]"
      ],
      "execution_count": 19,
      "outputs": [
        {
          "output_type": "execute_result",
          "data": {
            "text/plain": [
              "['tuple', 6]"
            ]
          },
          "metadata": {},
          "execution_count": 19
        }
      ]
    },
    {
      "cell_type": "code",
      "metadata": {
        "colab": {
          "base_uri": "https://localhost:8080/",
          "height": 35
        },
        "id": "7c8d-N3jkbuR",
        "outputId": "aa068de8-8ed1-46b0-eb63-e21dcc2789c0"
      },
      "source": [
        "my_tuple[2][1][0]"
      ],
      "execution_count": 20,
      "outputs": [
        {
          "output_type": "execute_result",
          "data": {
            "application/vnd.google.colaboratory.intrinsic+json": {
              "type": "string"
            },
            "text/plain": [
              "'tuple'"
            ]
          },
          "metadata": {},
          "execution_count": 20
        }
      ]
    }
  ]
}