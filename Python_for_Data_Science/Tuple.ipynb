{
  "nbformat": 4,
  "nbformat_minor": 0,
  "metadata": {
    "colab": {
      "name": "Tuple.ipynb",
      "provenance": [],
      "authorship_tag": "ABX9TyOU00iM2A7T1QKdNE+W7UV3",
      "include_colab_link": true
    },
    "kernelspec": {
      "name": "python3",
      "display_name": "Python 3"
    },
    "language_info": {
      "name": "python"
    }
  },
  "cells": [
    {
      "cell_type": "markdown",
      "metadata": {
        "id": "view-in-github",
        "colab_type": "text"
      },
      "source": [
        "<a href=\"https://colab.research.google.com/github/Drishti05/Python-for-Data-Science-Machine-Learning-from-A-Z/blob/main/Python_for_Data_Science/Tuple.ipynb\" target=\"_parent\"><img src=\"https://colab.research.google.com/assets/colab-badge.svg\" alt=\"Open In Colab\"/></a>"
      ]
    },
    {
      "cell_type": "markdown",
      "metadata": {
        "id": "oLIvQI5goOyT"
      },
      "source": [
        "- Special case of a list where the elements can not change\n",
        "- Tuple is immutable\n",
        "- We create tuple using circular brackets()\n",
        "- Indexing and slicing are the same as lists"
      ]
    },
    {
      "cell_type": "code",
      "metadata": {
        "colab": {
          "base_uri": "https://localhost:8080/"
        },
        "id": "n35tdAUaoPoW",
        "outputId": "a487ec5b-650c-443f-f172-842af9bbb3ba"
      },
      "source": [
        "my_tuple=(1,2,5.3)\n",
        "print(type(my_tuple))"
      ],
      "execution_count": 4,
      "outputs": [
        {
          "output_type": "stream",
          "name": "stdout",
          "text": [
            "<class 'tuple'>\n"
          ]
        }
      ]
    },
    {
      "cell_type": "code",
      "metadata": {
        "colab": {
          "base_uri": "https://localhost:8080/"
        },
        "id": "pvslCpw8nzq0",
        "outputId": "ab0e38fb-a52b-451f-f2b9-9c3011149e91"
      },
      "source": [
        "print(my_tuple[1])"
      ],
      "execution_count": 2,
      "outputs": [
        {
          "output_type": "stream",
          "name": "stdout",
          "text": [
            "2\n"
          ]
        }
      ]
    },
    {
      "cell_type": "code",
      "metadata": {
        "colab": {
          "base_uri": "https://localhost:8080/",
          "height": 165
        },
        "id": "lqsERKh7oBOQ",
        "outputId": "3f09db7a-07dc-45e1-f980-b0363cdbc252"
      },
      "source": [
        "my_tuple[1]=4"
      ],
      "execution_count": 3,
      "outputs": [
        {
          "output_type": "error",
          "ename": "TypeError",
          "evalue": "ignored",
          "traceback": [
            "\u001b[0;31m---------------------------------------------------------------------------\u001b[0m",
            "\u001b[0;31mTypeError\u001b[0m                                 Traceback (most recent call last)",
            "\u001b[0;32m<ipython-input-3-f91faada21e5>\u001b[0m in \u001b[0;36m<module>\u001b[0;34m()\u001b[0m\n\u001b[0;32m----> 1\u001b[0;31m \u001b[0mmy_tuple\u001b[0m\u001b[0;34m[\u001b[0m\u001b[0;36m1\u001b[0m\u001b[0;34m]\u001b[0m\u001b[0;34m=\u001b[0m\u001b[0;36m4\u001b[0m\u001b[0;34m\u001b[0m\u001b[0;34m\u001b[0m\u001b[0m\n\u001b[0m",
            "\u001b[0;31mTypeError\u001b[0m: 'tuple' object does not support item assignment"
          ]
        }
      ]
    },
    {
      "cell_type": "markdown",
      "metadata": {
        "id": "sQESTM2bo39P"
      },
      "source": [
        "# Empty Tuples"
      ]
    },
    {
      "cell_type": "code",
      "metadata": {
        "colab": {
          "base_uri": "https://localhost:8080/"
        },
        "id": "a_slHg8kovC8",
        "outputId": "0c19730a-920d-4226-974f-b052e495b781"
      },
      "source": [
        "empty_tuple=()\n",
        "print(empty_tuple)\n",
        "print(len(empty_tuple))\n",
        "print(type(empty_tuple))"
      ],
      "execution_count": 6,
      "outputs": [
        {
          "output_type": "stream",
          "name": "stdout",
          "text": [
            "()\n",
            "0\n",
            "<class 'tuple'>\n"
          ]
        }
      ]
    },
    {
      "cell_type": "markdown",
      "metadata": {
        "id": "EeBobWa_pYto"
      },
      "source": [
        "# Tuples with ONE element"
      ]
    },
    {
      "cell_type": "code",
      "metadata": {
        "colab": {
          "base_uri": "https://localhost:8080/"
        },
        "id": "U8PqytIPpejp",
        "outputId": "50779221-85f7-4db2-dc23-e8fe65d1a105"
      },
      "source": [
        "tuple_one=(\"Ahmed\")\n",
        "print(type(tuple_one))\n",
        "tuple_one=(2)\n",
        "print(type(tuple_one))"
      ],
      "execution_count": 7,
      "outputs": [
        {
          "output_type": "stream",
          "name": "stdout",
          "text": [
            "<class 'str'>\n",
            "<class 'int'>\n"
          ]
        }
      ]
    },
    {
      "cell_type": "markdown",
      "metadata": {
        "id": "atlEj_SLqBTj"
      },
      "source": [
        "## Use trailing comma"
      ]
    },
    {
      "cell_type": "code",
      "metadata": {
        "colab": {
          "base_uri": "https://localhost:8080/"
        },
        "id": "kH8MSxn_qGOd",
        "outputId": "edd26548-6420-4c14-8a02-e6d434709c17"
      },
      "source": [
        "tuple_one=(\"Ahmed\"),\n",
        "print(type(tuple_one))\n",
        "tuple_one=(2),\n",
        "print(type(tuple_one))"
      ],
      "execution_count": 8,
      "outputs": [
        {
          "output_type": "stream",
          "name": "stdout",
          "text": [
            "<class 'tuple'>\n",
            "<class 'tuple'>\n"
          ]
        }
      ]
    },
    {
      "cell_type": "markdown",
      "metadata": {
        "id": "KvaEmMcOqQyE"
      },
      "source": [
        "# Tuple Packing"
      ]
    },
    {
      "cell_type": "code",
      "metadata": {
        "colab": {
          "base_uri": "https://localhost:8080/"
        },
        "id": "zvqNk-FfqUZ_",
        "outputId": "a86dcd15-03ef-41ce-af95-bfdfb67d9022"
      },
      "source": [
        "t= 12345 ,54321, 'hello!'\n",
        "print(t)\n",
        "print(type(t))"
      ],
      "execution_count": 9,
      "outputs": [
        {
          "output_type": "stream",
          "name": "stdout",
          "text": [
            "(12345, 54321, 'hello!')\n",
            "<class 'tuple'>\n"
          ]
        }
      ]
    },
    {
      "cell_type": "markdown",
      "metadata": {
        "id": "X1ZmpXUgrAsS"
      },
      "source": [
        "# Sequence Packing"
      ]
    },
    {
      "cell_type": "code",
      "metadata": {
        "colab": {
          "base_uri": "https://localhost:8080/"
        },
        "id": "UYDN5MorrDVW",
        "outputId": "81c00a59-3cd4-4b61-f7b8-972898ea24c7"
      },
      "source": [
        "x,y,z=t\n",
        "print(x)\n",
        "print(y)\n",
        "print(z)"
      ],
      "execution_count": 10,
      "outputs": [
        {
          "output_type": "stream",
          "name": "stdout",
          "text": [
            "12345\n",
            "54321\n",
            "hello!\n"
          ]
        }
      ]
    },
    {
      "cell_type": "markdown",
      "metadata": {
        "id": "yNgnbC5DrU6i"
      },
      "source": [
        "#Tuple Functions"
      ]
    },
    {
      "cell_type": "code",
      "metadata": {
        "colab": {
          "base_uri": "https://localhost:8080/"
        },
        "id": "ShalxKmLrXrx",
        "outputId": "962be9b6-6274-4ecc-8f6e-93a6f2bb1e9c"
      },
      "source": [
        "tuple_one=(2,1,2,3,2)\n",
        "tuple_one.count(2)"
      ],
      "execution_count": 11,
      "outputs": [
        {
          "output_type": "execute_result",
          "data": {
            "text/plain": [
              "3"
            ]
          },
          "metadata": {},
          "execution_count": 11
        }
      ]
    },
    {
      "cell_type": "code",
      "metadata": {
        "colab": {
          "base_uri": "https://localhost:8080/"
        },
        "id": "4TH34wHUr2bq",
        "outputId": "f5932361-b51d-4397-9ac5-2afa73c22ead"
      },
      "source": [
        "tuple_one.index(3)"
      ],
      "execution_count": 12,
      "outputs": [
        {
          "output_type": "execute_result",
          "data": {
            "text/plain": [
              "3"
            ]
          },
          "metadata": {},
          "execution_count": 12
        }
      ]
    }
  ]
}