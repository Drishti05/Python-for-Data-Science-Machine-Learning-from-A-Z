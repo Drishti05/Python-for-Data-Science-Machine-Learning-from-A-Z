{
  "nbformat": 4,
  "nbformat_minor": 0,
  "metadata": {
    "colab": {
      "name": "Strings.ipynb",
      "provenance": [],
      "authorship_tag": "ABX9TyNcun0ItnguA49nOedrfKoT",
      "include_colab_link": true
    },
    "kernelspec": {
      "name": "python3",
      "display_name": "Python 3"
    },
    "language_info": {
      "name": "python"
    }
  },
  "cells": [
    {
      "cell_type": "markdown",
      "metadata": {
        "id": "view-in-github",
        "colab_type": "text"
      },
      "source": [
        "<a href=\"https://colab.research.google.com/github/Drishti05/Python-for-Data-Science-Machine-Learning-from-A-Z/blob/main/Python_for_Data_Science/Strings.ipynb\" target=\"_parent\"><img src=\"https://colab.research.google.com/assets/colab-badge.svg\" alt=\"Open In Colab\"/></a>"
      ]
    },
    {
      "cell_type": "markdown",
      "metadata": {
        "id": "8hGJnZD-csIy"
      },
      "source": [
        "# Strings\n"
      ]
    },
    {
      "cell_type": "code",
      "metadata": {
        "colab": {
          "base_uri": "https://localhost:8080/",
          "height": 35
        },
        "id": "d-R8DhWUcu-T",
        "outputId": "4d23c316-aa45-4663-d1bb-60adc62adf4c"
      },
      "source": [
        "\"He is a data scientist.\""
      ],
      "execution_count": 1,
      "outputs": [
        {
          "output_type": "execute_result",
          "data": {
            "application/vnd.google.colaboratory.intrinsic+json": {
              "type": "string"
            },
            "text/plain": [
              "'He is a data scientist.'"
            ]
          },
          "metadata": {},
          "execution_count": 1
        }
      ]
    },
    {
      "cell_type": "code",
      "metadata": {
        "colab": {
          "base_uri": "https://localhost:8080/"
        },
        "id": "pJVPaFQFc5Fz",
        "outputId": "46de6be4-6a19-423e-d6a2-ad19028c5358"
      },
      "source": [
        "print(\"He is a data scientist.\")"
      ],
      "execution_count": 2,
      "outputs": [
        {
          "output_type": "stream",
          "name": "stdout",
          "text": [
            "He is a data scientist.\n"
          ]
        }
      ]
    },
    {
      "cell_type": "code",
      "metadata": {
        "colab": {
          "base_uri": "https://localhost:8080/",
          "height": 35
        },
        "id": "cqj-BSoYdCho",
        "outputId": "75e0970a-4857-4db0-b433-e07c1e433e93"
      },
      "source": [
        "\"He's a data scientist.\""
      ],
      "execution_count": 3,
      "outputs": [
        {
          "output_type": "execute_result",
          "data": {
            "application/vnd.google.colaboratory.intrinsic+json": {
              "type": "string"
            },
            "text/plain": [
              "\"He's a data scientist.\""
            ]
          },
          "metadata": {},
          "execution_count": 3
        }
      ]
    },
    {
      "cell_type": "code",
      "metadata": {
        "colab": {
          "base_uri": "https://localhost:8080/",
          "height": 130
        },
        "id": "CVi7ALvedILb",
        "outputId": "65488c2d-6bf0-4f99-ae4a-c9e941612b49"
      },
      "source": [
        "'He's a data scientist.'"
      ],
      "execution_count": 4,
      "outputs": [
        {
          "output_type": "error",
          "ename": "SyntaxError",
          "evalue": "ignored",
          "traceback": [
            "\u001b[0;36m  File \u001b[0;32m\"<ipython-input-4-fafa0ec55569>\"\u001b[0;36m, line \u001b[0;32m1\u001b[0m\n\u001b[0;31m    'He's a data scientist.'\u001b[0m\n\u001b[0m        ^\u001b[0m\n\u001b[0;31mSyntaxError\u001b[0m\u001b[0;31m:\u001b[0m invalid syntax\n"
          ]
        }
      ]
    },
    {
      "cell_type": "code",
      "metadata": {
        "colab": {
          "base_uri": "https://localhost:8080/",
          "height": 130
        },
        "id": "7xEXxjMzdUei",
        "outputId": "c619a978-8e72-4143-82c1-d73f6c5c3bbc"
      },
      "source": [
        "print(\"Newton's Third Law:\"Every action has equal and opposite reaction.\"\")"
      ],
      "execution_count": 7,
      "outputs": [
        {
          "output_type": "error",
          "ename": "SyntaxError",
          "evalue": "ignored",
          "traceback": [
            "\u001b[0;36m  File \u001b[0;32m\"<ipython-input-7-814bea479b9a>\"\u001b[0;36m, line \u001b[0;32m1\u001b[0m\n\u001b[0;31m    print(\"Newton's Third Law:\"Every action has equal and opposite reaction.\"\")\u001b[0m\n\u001b[0m                                   ^\u001b[0m\n\u001b[0;31mSyntaxError\u001b[0m\u001b[0;31m:\u001b[0m invalid syntax\n"
          ]
        }
      ]
    },
    {
      "cell_type": "code",
      "metadata": {
        "colab": {
          "base_uri": "https://localhost:8080/",
          "height": 130
        },
        "id": "SRss5SUZdwLP",
        "outputId": "4199050a-fd0f-46e4-c287-18de58850197"
      },
      "source": [
        "print('Newton's Third Law:\"Every action has equal and opposite reaction.\"')"
      ],
      "execution_count": 8,
      "outputs": [
        {
          "output_type": "error",
          "ename": "SyntaxError",
          "evalue": "ignored",
          "traceback": [
            "\u001b[0;36m  File \u001b[0;32m\"<ipython-input-8-0adec2f9cf9b>\"\u001b[0;36m, line \u001b[0;32m1\u001b[0m\n\u001b[0;31m    print('Newton's Third Law:\"Every action has equal and opposite reaction.\"')\u001b[0m\n\u001b[0m                  ^\u001b[0m\n\u001b[0;31mSyntaxError\u001b[0m\u001b[0;31m:\u001b[0m invalid syntax\n"
          ]
        }
      ]
    },
    {
      "cell_type": "markdown",
      "metadata": {
        "id": "lcxSg3rad5qX"
      },
      "source": [
        "## Escape Character"
      ]
    },
    {
      "cell_type": "code",
      "metadata": {
        "colab": {
          "base_uri": "https://localhost:8080/"
        },
        "id": "4ItnqZgTd8ML",
        "outputId": "7b304d3a-6256-4dd0-a719-93540848eec8"
      },
      "source": [
        "print('Newton\\'s Third Law:\"Every action has equal and opposite reaction.\"')"
      ],
      "execution_count": 9,
      "outputs": [
        {
          "output_type": "stream",
          "name": "stdout",
          "text": [
            "Newton's Third Law:\"Every action has equal and opposite reaction.\"\n"
          ]
        }
      ]
    },
    {
      "cell_type": "markdown",
      "metadata": {
        "id": "pelWCptJeOzW"
      },
      "source": [
        "# String Concatenation"
      ]
    },
    {
      "cell_type": "code",
      "metadata": {
        "colab": {
          "base_uri": "https://localhost:8080/"
        },
        "id": "kZI5o3AueRiq",
        "outputId": "43f518c9-426a-4ad7-ba3b-ac2aea101482"
      },
      "source": [
        "print(\"Hello\"+\" World\")"
      ],
      "execution_count": 12,
      "outputs": [
        {
          "output_type": "stream",
          "name": "stdout",
          "text": [
            "Hello World\n"
          ]
        }
      ]
    },
    {
      "cell_type": "code",
      "metadata": {
        "colab": {
          "base_uri": "https://localhost:8080/"
        },
        "id": "WBVks5l5eWUG",
        "outputId": "6bc97806-81e7-4a81-8c30-a4683fff4e68"
      },
      "source": [
        "print(\"Hello\"+\"\\nWorld\")"
      ],
      "execution_count": 13,
      "outputs": [
        {
          "output_type": "stream",
          "name": "stdout",
          "text": [
            "Hello\n",
            "World\n"
          ]
        }
      ]
    },
    {
      "cell_type": "markdown",
      "metadata": {
        "id": "kurmW0XNenua"
      },
      "source": [
        "# String Indexing"
      ]
    },
    {
      "cell_type": "markdown",
      "metadata": {
        "id": "1aFgsu2zer6C"
      },
      "source": [
        "- Strings can be stored into variables\n",
        "- Each character can be accessed separately from a String\n",
        "- string Indexing start from 0."
      ]
    },
    {
      "cell_type": "code",
      "metadata": {
        "colab": {
          "base_uri": "https://localhost:8080/"
        },
        "id": "yxtyx95oeqkp",
        "outputId": "29dffe77-d31c-418f-c22e-756ea7a76a2c"
      },
      "source": [
        "greetings=\"Hello World!\"\n",
        "\n",
        "print(greetings)\n",
        "\n",
        "first=\"Hello \"\n",
        "second=\"World!\"\n",
        "\n",
        "join=first+second\n",
        "\n",
        "print(join)"
      ],
      "execution_count": 14,
      "outputs": [
        {
          "output_type": "stream",
          "name": "stdout",
          "text": [
            "Hello World!\n",
            "Hello World!\n"
          ]
        }
      ]
    },
    {
      "cell_type": "code",
      "metadata": {
        "colab": {
          "base_uri": "https://localhost:8080/",
          "height": 35
        },
        "id": "tWcQ8Fzvk6Ml",
        "outputId": "f6270a64-9ba3-4c4c-8825-a96d3915215e"
      },
      "source": [
        "join[4]"
      ],
      "execution_count": 19,
      "outputs": [
        {
          "output_type": "execute_result",
          "data": {
            "application/vnd.google.colaboratory.intrinsic+json": {
              "type": "string"
            },
            "text/plain": [
              "'o'"
            ]
          },
          "metadata": {},
          "execution_count": 19
        }
      ]
    },
    {
      "cell_type": "code",
      "metadata": {
        "colab": {
          "base_uri": "https://localhost:8080/"
        },
        "id": "GaOW7xaxfkHa",
        "outputId": "6f241709-c72f-47eb-9435-f48a26e81b37"
      },
      "source": [
        "print(\"First Character:  \",join[0])\n",
        "print(\"Second Character: \",join[1])\n",
        "\n",
        "print(\"Last Character:   \",join[11])"
      ],
      "execution_count": 18,
      "outputs": [
        {
          "output_type": "stream",
          "name": "stdout",
          "text": [
            "First Character:   H\n",
            "Second Character:  e\n",
            "Last Character:    !\n"
          ]
        }
      ]
    },
    {
      "cell_type": "markdown",
      "metadata": {
        "id": "W_DcbSvJlAyy"
      },
      "source": [
        "#String Slicing"
      ]
    },
    {
      "cell_type": "markdown",
      "metadata": {
        "id": "lKjGKLAClFfg"
      },
      "source": [
        "- Extracting a particular substring from the string\n",
        "- some_String[start:end]\n",
        "- Each index is not representing a character but the starting point of character"
      ]
    },
    {
      "cell_type": "code",
      "metadata": {
        "colab": {
          "base_uri": "https://localhost:8080/"
        },
        "id": "hRpAA8tClD21",
        "outputId": "b7f5d8c6-9a9e-4f3d-9249-8d718501a90d"
      },
      "source": [
        "greetings=\"Hello World!\"\n",
        "\n",
        "print(\"First Part->\", greetings[0:5])\n",
        "print(\"Second Part->\", greetings[6:12])\n",
        "\n"
      ],
      "execution_count": 20,
      "outputs": [
        {
          "output_type": "stream",
          "name": "stdout",
          "text": [
            "First Part-> Hello\n",
            "Second Part-> World!\n"
          ]
        }
      ]
    },
    {
      "cell_type": "code",
      "metadata": {
        "colab": {
          "base_uri": "https://localhost:8080/"
        },
        "id": "Yk4dBNImpE4R",
        "outputId": "0578dfe5-5fed-4a8c-81f1-85f79e426618"
      },
      "source": [
        "print(greetings[0:1])"
      ],
      "execution_count": 21,
      "outputs": [
        {
          "output_type": "stream",
          "name": "stdout",
          "text": [
            "H\n"
          ]
        }
      ]
    },
    {
      "cell_type": "markdown",
      "metadata": {
        "id": "TibOzMeupWlU"
      },
      "source": [
        "##len()"
      ]
    },
    {
      "cell_type": "code",
      "metadata": {
        "colab": {
          "base_uri": "https://localhost:8080/"
        },
        "id": "b3yl8KZzpYqv",
        "outputId": "1471e463-2102-4314-fffb-dc8f95262b5d"
      },
      "source": [
        "sentence=\"My name is Drishti and I like Gardening\"\n",
        "print(len(sentence))"
      ],
      "execution_count": 23,
      "outputs": [
        {
          "output_type": "stream",
          "name": "stdout",
          "text": [
            "39\n"
          ]
        }
      ]
    },
    {
      "cell_type": "code",
      "metadata": {
        "colab": {
          "base_uri": "https://localhost:8080/"
        },
        "id": "9DzO-anDuI7Z",
        "outputId": "964f1a39-f18c-44dd-f62b-e6178b05c2a7"
      },
      "source": [
        "print(sentence[len(sentence)-1])"
      ],
      "execution_count": 26,
      "outputs": [
        {
          "output_type": "stream",
          "name": "stdout",
          "text": [
            "g\n"
          ]
        }
      ]
    }
  ]
}