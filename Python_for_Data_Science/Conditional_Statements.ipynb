{
  "nbformat": 4,
  "nbformat_minor": 0,
  "metadata": {
    "colab": {
      "name": "Conditional Statements.ipynb",
      "provenance": [],
      "authorship_tag": "ABX9TyMBg3aLaCILAGPNWVsUA917",
      "include_colab_link": true
    },
    "kernelspec": {
      "name": "python3",
      "display_name": "Python 3"
    },
    "language_info": {
      "name": "python"
    }
  },
  "cells": [
    {
      "cell_type": "markdown",
      "metadata": {
        "id": "view-in-github",
        "colab_type": "text"
      },
      "source": [
        "<a href=\"https://colab.research.google.com/github/Drishti05/Python-for-Data-Science-Machine-Learning-from-A-Z/blob/main/Python_for_Data_Science/Conditional_Statements.ipynb\" target=\"_parent\"><img src=\"https://colab.research.google.com/assets/colab-badge.svg\" alt=\"Open In Colab\"/></a>"
      ]
    },
    {
      "cell_type": "markdown",
      "metadata": {
        "id": "ovY6cpgKv_Wl"
      },
      "source": [
        "# Sequence Of Program"
      ]
    },
    {
      "cell_type": "code",
      "metadata": {
        "colab": {
          "base_uri": "https://localhost:8080/"
        },
        "id": "rmMojRNAwEmp",
        "outputId": "6c64d65b-ca8c-4969-fb2c-19b94256fcac"
      },
      "source": [
        "x=9\n",
        "y=3\n",
        "\n",
        "z=x/y\n",
        "print(\"Value of z:\",z)"
      ],
      "execution_count": 1,
      "outputs": [
        {
          "output_type": "stream",
          "name": "stdout",
          "text": [
            "Value of z: 3.0\n"
          ]
        }
      ]
    },
    {
      "cell_type": "code",
      "metadata": {
        "colab": {
          "base_uri": "https://localhost:8080/"
        },
        "id": "4Wj320HeRhLh",
        "outputId": "c4209a32-3c82-45d1-dc0f-2dd3b6d3f301"
      },
      "source": [
        "if 10%100 ==0:\n",
        "  print(\"yes\")\n",
        "else:\n",
        "  print(\"no\")  \n"
      ],
      "execution_count": 2,
      "outputs": [
        {
          "output_type": "stream",
          "name": "stdout",
          "text": [
            "no\n"
          ]
        }
      ]
    },
    {
      "cell_type": "markdown",
      "metadata": {
        "id": "e2zgz_JETeTw"
      },
      "source": [
        "- elif is used when only one statement is true and rest are discarded"
      ]
    },
    {
      "cell_type": "code",
      "metadata": {
        "colab": {
          "base_uri": "https://localhost:8080/"
        },
        "id": "Ws2CmFRoSdZF",
        "outputId": "2cc1b07f-c4ab-49d3-dd03-874c86d0cb53"
      },
      "source": [
        "x=7\n",
        "y=-1\n",
        "\n",
        "if x>y:\n",
        "  print(\"Greater\")\n",
        "elif x<y:\n",
        "  print(\"Smaller\")\n",
        "elif x==y:\n",
        "  print(\"Smaller\")\n",
        "elif x<0:\n",
        "  print(\"Negative\")    \n",
        "\n"
      ],
      "execution_count": 3,
      "outputs": [
        {
          "output_type": "stream",
          "name": "stdout",
          "text": [
            "Greater\n"
          ]
        }
      ]
    },
    {
      "cell_type": "markdown",
      "metadata": {
        "id": "T7E1iqyRTu7k"
      },
      "source": [
        "- Multiple statements can be written using if"
      ]
    },
    {
      "cell_type": "code",
      "metadata": {
        "colab": {
          "base_uri": "https://localhost:8080/"
        },
        "id": "2nZg4W-LTJi2",
        "outputId": "747ac002-dea1-47b6-b9bf-8612a3ecdd02"
      },
      "source": [
        "if 9>2:\n",
        "  print(\"1\")\n",
        "if 9>3:\n",
        "  print(\"2\")\n",
        "if 9>8:\n",
        "  print(\"3\")    "
      ],
      "execution_count": 4,
      "outputs": [
        {
          "output_type": "stream",
          "name": "stdout",
          "text": [
            "1\n",
            "2\n",
            "3\n"
          ]
        }
      ]
    }
  ]
}