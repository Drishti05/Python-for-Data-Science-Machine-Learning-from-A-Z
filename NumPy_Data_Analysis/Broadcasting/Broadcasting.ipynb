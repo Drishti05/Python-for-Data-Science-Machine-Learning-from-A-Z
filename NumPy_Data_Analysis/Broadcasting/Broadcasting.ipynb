{
  "nbformat": 4,
  "nbformat_minor": 0,
  "metadata": {
    "colab": {
      "name": "Broadcasting.ipynb",
      "provenance": [],
      "authorship_tag": "ABX9TyNgZu6rJpjfru3OG5rX7QcT",
      "include_colab_link": true
    },
    "kernelspec": {
      "name": "python3",
      "display_name": "Python 3"
    },
    "language_info": {
      "name": "python"
    }
  },
  "cells": [
    {
      "cell_type": "markdown",
      "metadata": {
        "id": "view-in-github",
        "colab_type": "text"
      },
      "source": [
        "<a href=\"https://colab.research.google.com/github/Drishti05/Python-for-Data-Science-Machine-Learning-from-A-Z/blob/main/NumPy_Data_Analysis/Broadcasting/Broadcasting.ipynb\" target=\"_parent\"><img src=\"https://colab.research.google.com/assets/colab-badge.svg\" alt=\"Open In Colab\"/></a>"
      ]
    },
    {
      "cell_type": "markdown",
      "source": [
        "# Computation on Arrays"
      ],
      "metadata": {
        "id": "mGUJ-ge0h7TA"
      }
    },
    {
      "cell_type": "code",
      "source": [
        "import numpy as np"
      ],
      "metadata": {
        "id": "1SkRKjvziAb7"
      },
      "execution_count": 1,
      "outputs": []
    },
    {
      "cell_type": "code",
      "source": [
        "a= np.array([0,1,2])"
      ],
      "metadata": {
        "id": "L2b2CP4fiEZ1"
      },
      "execution_count": 2,
      "outputs": []
    },
    {
      "cell_type": "code",
      "source": [
        "b= np.array([5,5,5])"
      ],
      "metadata": {
        "id": "LgKwIduYnyVA"
      },
      "execution_count": 3,
      "outputs": []
    },
    {
      "cell_type": "code",
      "source": [
        "a+b"
      ],
      "metadata": {
        "colab": {
          "base_uri": "https://localhost:8080/"
        },
        "id": "ClBUJgj8n27u",
        "outputId": "c1843992-b198-4fd8-b00a-d73b0ff82819"
      },
      "execution_count": 4,
      "outputs": [
        {
          "output_type": "execute_result",
          "data": {
            "text/plain": [
              "array([5, 6, 7])"
            ]
          },
          "metadata": {},
          "execution_count": 4
        }
      ]
    },
    {
      "cell_type": "code",
      "source": [
        "arr1= np.arange(3)"
      ],
      "metadata": {
        "id": "871q9qjzn-bG"
      },
      "execution_count": 7,
      "outputs": []
    },
    {
      "cell_type": "code",
      "source": [
        "arr1"
      ],
      "metadata": {
        "colab": {
          "base_uri": "https://localhost:8080/"
        },
        "id": "bxKJiTjioGrZ",
        "outputId": "aafc1e9a-ceb1-4949-9ccf-d8a682a95d67"
      },
      "execution_count": 8,
      "outputs": [
        {
          "output_type": "execute_result",
          "data": {
            "text/plain": [
              "array([0, 1, 2])"
            ]
          },
          "metadata": {},
          "execution_count": 8
        }
      ]
    },
    {
      "cell_type": "code",
      "source": [
        "arr1+5"
      ],
      "metadata": {
        "colab": {
          "base_uri": "https://localhost:8080/"
        },
        "id": "nEn0fSFhoD1D",
        "outputId": "2b7ff745-5973-4257-970c-5b966349ae1c"
      },
      "execution_count": 9,
      "outputs": [
        {
          "output_type": "execute_result",
          "data": {
            "text/plain": [
              "array([5, 6, 7])"
            ]
          },
          "metadata": {},
          "execution_count": 9
        }
      ]
    },
    {
      "cell_type": "code",
      "source": [
        "arr2= np.ones((3,3))"
      ],
      "metadata": {
        "id": "mMrlznGboM-B"
      },
      "execution_count": 10,
      "outputs": []
    },
    {
      "cell_type": "code",
      "source": [
        "arr2"
      ],
      "metadata": {
        "colab": {
          "base_uri": "https://localhost:8080/"
        },
        "id": "qDA42mCJoXnt",
        "outputId": "8f47f571-707a-4347-98bb-f35b6c075808"
      },
      "execution_count": 11,
      "outputs": [
        {
          "output_type": "execute_result",
          "data": {
            "text/plain": [
              "array([[1., 1., 1.],\n",
              "       [1., 1., 1.],\n",
              "       [1., 1., 1.]])"
            ]
          },
          "metadata": {},
          "execution_count": 11
        }
      ]
    },
    {
      "cell_type": "code",
      "source": [
        "arr2+ np.arange(3)"
      ],
      "metadata": {
        "colab": {
          "base_uri": "https://localhost:8080/"
        },
        "id": "u7gBEtcPoZim",
        "outputId": "957bb0e0-8796-4cbb-dea3-9863d9841881"
      },
      "execution_count": 12,
      "outputs": [
        {
          "output_type": "execute_result",
          "data": {
            "text/plain": [
              "array([[1., 2., 3.],\n",
              "       [1., 2., 3.],\n",
              "       [1., 2., 3.]])"
            ]
          },
          "metadata": {},
          "execution_count": 12
        }
      ]
    },
    {
      "cell_type": "code",
      "source": [
        "arr3= np.array([[0],[1],[2]])"
      ],
      "metadata": {
        "id": "mg0yQx-kofdN"
      },
      "execution_count": 20,
      "outputs": []
    },
    {
      "cell_type": "code",
      "source": [
        "arr3"
      ],
      "metadata": {
        "colab": {
          "base_uri": "https://localhost:8080/"
        },
        "id": "pO55PlX7osNG",
        "outputId": "8c2bae77-b8d6-4916-f51e-9341563b6a54"
      },
      "execution_count": 21,
      "outputs": [
        {
          "output_type": "execute_result",
          "data": {
            "text/plain": [
              "array([[0],\n",
              "       [1],\n",
              "       [2]])"
            ]
          },
          "metadata": {},
          "execution_count": 21
        }
      ]
    },
    {
      "cell_type": "code",
      "source": [
        "arr3+ np.arange(3)"
      ],
      "metadata": {
        "colab": {
          "base_uri": "https://localhost:8080/"
        },
        "id": "csIxwzZ6ottN",
        "outputId": "1a055265-da43-4d01-e6b9-883912fd41c8"
      },
      "execution_count": 22,
      "outputs": [
        {
          "output_type": "execute_result",
          "data": {
            "text/plain": [
              "array([[0, 1, 2],\n",
              "       [1, 2, 3],\n",
              "       [2, 3, 4]])"
            ]
          },
          "metadata": {},
          "execution_count": 22
        }
      ]
    },
    {
      "cell_type": "markdown",
      "source": [
        "## Comparison Functions"
      ],
      "metadata": {
        "id": "TDsuXoDYraCP"
      }
    },
    {
      "cell_type": "code",
      "source": [
        "array= np.array([1,2,3,4,5])"
      ],
      "metadata": {
        "id": "-CYY7jqnrdfJ"
      },
      "execution_count": 23,
      "outputs": []
    },
    {
      "cell_type": "code",
      "source": [
        "array"
      ],
      "metadata": {
        "colab": {
          "base_uri": "https://localhost:8080/"
        },
        "id": "vNTyAnousl44",
        "outputId": "14fe5b88-6559-41de-d56e-23e384a24ac1"
      },
      "execution_count": 24,
      "outputs": [
        {
          "output_type": "execute_result",
          "data": {
            "text/plain": [
              "array([1, 2, 3, 4, 5])"
            ]
          },
          "metadata": {},
          "execution_count": 24
        }
      ]
    },
    {
      "cell_type": "markdown",
      "source": [
        "## less than"
      ],
      "metadata": {
        "id": "JwZPfk76ssR4"
      }
    },
    {
      "cell_type": "code",
      "source": [
        "array<3"
      ],
      "metadata": {
        "colab": {
          "base_uri": "https://localhost:8080/"
        },
        "id": "Dk-_RwjJsnot",
        "outputId": "29d347d9-a08f-4d46-9616-9bc44028dbd3"
      },
      "execution_count": 25,
      "outputs": [
        {
          "output_type": "execute_result",
          "data": {
            "text/plain": [
              "array([ True,  True, False, False, False])"
            ]
          },
          "metadata": {},
          "execution_count": 25
        }
      ]
    },
    {
      "cell_type": "markdown",
      "source": [
        "## greater than"
      ],
      "metadata": {
        "id": "Jb09raGGsuZN"
      }
    },
    {
      "cell_type": "code",
      "source": [
        "array>3"
      ],
      "metadata": {
        "colab": {
          "base_uri": "https://localhost:8080/"
        },
        "id": "PDiwasLusrcL",
        "outputId": "d8aee27a-aace-4922-dfee-e88d6afbea32"
      },
      "execution_count": 26,
      "outputs": [
        {
          "output_type": "execute_result",
          "data": {
            "text/plain": [
              "array([False, False, False,  True,  True])"
            ]
          },
          "metadata": {},
          "execution_count": 26
        }
      ]
    },
    {
      "cell_type": "markdown",
      "source": [
        "## less than or equal"
      ],
      "metadata": {
        "id": "ueVtszi4symN"
      }
    },
    {
      "cell_type": "code",
      "source": [
        "array<=3"
      ],
      "metadata": {
        "colab": {
          "base_uri": "https://localhost:8080/"
        },
        "id": "-rcK9GUXs1dR",
        "outputId": "b787bfa8-8204-4468-cc53-5067c4096537"
      },
      "execution_count": 28,
      "outputs": [
        {
          "output_type": "execute_result",
          "data": {
            "text/plain": [
              "array([ True,  True,  True, False, False])"
            ]
          },
          "metadata": {},
          "execution_count": 28
        }
      ]
    },
    {
      "cell_type": "markdown",
      "source": [
        "## greater than or equal"
      ],
      "metadata": {
        "id": "Zuj84BF4s-tw"
      }
    },
    {
      "cell_type": "code",
      "source": [
        "array>=3"
      ],
      "metadata": {
        "colab": {
          "base_uri": "https://localhost:8080/"
        },
        "id": "qALSzHiatBlL",
        "outputId": "31e45616-e825-4000-a518-73c1021445f0"
      },
      "execution_count": 29,
      "outputs": [
        {
          "output_type": "execute_result",
          "data": {
            "text/plain": [
              "array([False, False,  True,  True,  True])"
            ]
          },
          "metadata": {},
          "execution_count": 29
        }
      ]
    },
    {
      "cell_type": "markdown",
      "source": [
        "## not equal"
      ],
      "metadata": {
        "id": "7rsQzC6CtFgm"
      }
    },
    {
      "cell_type": "code",
      "source": [
        "array !=3"
      ],
      "metadata": {
        "colab": {
          "base_uri": "https://localhost:8080/"
        },
        "id": "OO1qKW3LtDta",
        "outputId": "b1c3e664-ce9b-4233-9a52-cf136c990554"
      },
      "execution_count": 30,
      "outputs": [
        {
          "output_type": "execute_result",
          "data": {
            "text/plain": [
              "array([ True,  True, False,  True,  True])"
            ]
          },
          "metadata": {},
          "execution_count": 30
        }
      ]
    },
    {
      "cell_type": "markdown",
      "source": [
        "## equal"
      ],
      "metadata": {
        "id": "TZYQQivJtJ0i"
      }
    },
    {
      "cell_type": "code",
      "source": [
        "array==3"
      ],
      "metadata": {
        "colab": {
          "base_uri": "https://localhost:8080/"
        },
        "id": "3lRYxOAJtMrp",
        "outputId": "944b7400-fed4-4c0c-aa6d-1daa7c35a119"
      },
      "execution_count": 31,
      "outputs": [
        {
          "output_type": "execute_result",
          "data": {
            "text/plain": [
              "array([False, False,  True, False, False])"
            ]
          },
          "metadata": {},
          "execution_count": 31
        }
      ]
    }
  ]
}