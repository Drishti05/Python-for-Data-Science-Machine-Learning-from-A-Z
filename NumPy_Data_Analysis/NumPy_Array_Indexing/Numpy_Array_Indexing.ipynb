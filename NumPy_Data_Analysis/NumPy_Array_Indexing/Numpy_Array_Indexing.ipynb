{
  "nbformat": 4,
  "nbformat_minor": 0,
  "metadata": {
    "colab": {
      "name": "Numpy Array Indexing.ipynb",
      "provenance": [],
      "authorship_tag": "ABX9TyPnBV/34hU6tYdJOkDSfOK3",
      "include_colab_link": true
    },
    "kernelspec": {
      "name": "python3",
      "display_name": "Python 3"
    },
    "language_info": {
      "name": "python"
    }
  },
  "cells": [
    {
      "cell_type": "markdown",
      "metadata": {
        "id": "view-in-github",
        "colab_type": "text"
      },
      "source": [
        "<a href=\"https://colab.research.google.com/github/Drishti05/Python-for-Data-Science-Machine-Learning-from-A-Z/blob/main/NumPy_Data_Analysis/NumPy_Array_Indexing/Numpy_Array_Indexing.ipynb\" target=\"_parent\"><img src=\"https://colab.research.google.com/assets/colab-badge.svg\" alt=\"Open In Colab\"/></a>"
      ]
    },
    {
      "cell_type": "markdown",
      "source": [
        "## Array Slicing"
      ],
      "metadata": {
        "id": "7jle8yaAis4D"
      }
    },
    {
      "cell_type": "code",
      "source": [
        "import numpy as np"
      ],
      "metadata": {
        "id": "hCOiEqOgjYzq"
      },
      "execution_count": 2,
      "outputs": []
    },
    {
      "cell_type": "code",
      "source": [
        "array= np.arange(10)"
      ],
      "metadata": {
        "id": "xiBiWeC4jUDD"
      },
      "execution_count": 4,
      "outputs": []
    },
    {
      "cell_type": "code",
      "source": [
        "array"
      ],
      "metadata": {
        "colab": {
          "base_uri": "https://localhost:8080/"
        },
        "id": "q712a9zOjfVd",
        "outputId": "fcbe253d-4e3a-46bb-8b8c-6e6facf89b2a"
      },
      "execution_count": 5,
      "outputs": [
        {
          "output_type": "execute_result",
          "data": {
            "text/plain": [
              "array([0, 1, 2, 3, 4, 5, 6, 7, 8, 9])"
            ]
          },
          "metadata": {},
          "execution_count": 5
        }
      ]
    },
    {
      "cell_type": "markdown",
      "source": [
        "# 1 D Slicing"
      ],
      "metadata": {
        "id": "0kbzWtZtsfsH"
      }
    },
    {
      "cell_type": "markdown",
      "source": [
        "## First five elements"
      ],
      "metadata": {
        "id": "r5oUIKYIrSJO"
      }
    },
    {
      "cell_type": "code",
      "source": [
        "array[:5]"
      ],
      "metadata": {
        "colab": {
          "base_uri": "https://localhost:8080/"
        },
        "id": "MPe8dSOWj1VW",
        "outputId": "0f6fb2a7-e6bf-428b-9b62-1844b1eaecad"
      },
      "execution_count": 6,
      "outputs": [
        {
          "output_type": "execute_result",
          "data": {
            "text/plain": [
              "array([0, 1, 2, 3, 4])"
            ]
          },
          "metadata": {},
          "execution_count": 6
        }
      ]
    },
    {
      "cell_type": "markdown",
      "source": [
        "## Elements after index 5"
      ],
      "metadata": {
        "id": "gBb-RGp6sDK9"
      }
    },
    {
      "cell_type": "code",
      "source": [
        "array[5:]"
      ],
      "metadata": {
        "colab": {
          "base_uri": "https://localhost:8080/"
        },
        "id": "6egY_R9Cj36u",
        "outputId": "12e10ed9-f694-4470-f693-2f74233b9b91"
      },
      "execution_count": 7,
      "outputs": [
        {
          "output_type": "execute_result",
          "data": {
            "text/plain": [
              "array([5, 6, 7, 8, 9])"
            ]
          },
          "metadata": {},
          "execution_count": 7
        }
      ]
    },
    {
      "cell_type": "markdown",
      "source": [
        "## Middle Subarray"
      ],
      "metadata": {
        "id": "hgGOL-EMsHZ1"
      }
    },
    {
      "cell_type": "code",
      "source": [
        "array[4:7]"
      ],
      "metadata": {
        "colab": {
          "base_uri": "https://localhost:8080/"
        },
        "id": "DS5YLKprj-KD",
        "outputId": "e8a59e1d-d3b1-48e9-a4e5-5a19f87d185e"
      },
      "execution_count": 8,
      "outputs": [
        {
          "output_type": "execute_result",
          "data": {
            "text/plain": [
              "array([4, 5, 6])"
            ]
          },
          "metadata": {},
          "execution_count": 8
        }
      ]
    },
    {
      "cell_type": "markdown",
      "source": [
        "## Every other element"
      ],
      "metadata": {
        "id": "ktvq6_hlsN0u"
      }
    },
    {
      "cell_type": "code",
      "source": [
        "array[::2]"
      ],
      "metadata": {
        "colab": {
          "base_uri": "https://localhost:8080/"
        },
        "id": "C6M8R-aUkDC8",
        "outputId": "b4d23b00-7ddf-45d0-9f54-c610a0482c7e"
      },
      "execution_count": 9,
      "outputs": [
        {
          "output_type": "execute_result",
          "data": {
            "text/plain": [
              "array([0, 2, 4, 6, 8])"
            ]
          },
          "metadata": {},
          "execution_count": 9
        }
      ]
    },
    {
      "cell_type": "markdown",
      "source": [
        "## Every other element starting at index 1"
      ],
      "metadata": {
        "id": "aU57z4kgsSVw"
      }
    },
    {
      "cell_type": "code",
      "source": [
        "array[1::2]"
      ],
      "metadata": {
        "colab": {
          "base_uri": "https://localhost:8080/"
        },
        "id": "eQTZK1JYkIAq",
        "outputId": "c5f153d1-e453-4c80-c1cc-92ed929722c0"
      },
      "execution_count": 10,
      "outputs": [
        {
          "output_type": "execute_result",
          "data": {
            "text/plain": [
              "array([1, 3, 5, 7, 9])"
            ]
          },
          "metadata": {},
          "execution_count": 10
        }
      ]
    },
    {
      "cell_type": "markdown",
      "source": [
        "# 2 D Slicing"
      ],
      "metadata": {
        "id": "O8b2lmTRsjMj"
      }
    },
    {
      "cell_type": "code",
      "source": [
        "arrays2 =np.array([[12,5,2,4],[7,6,8,8],[1,6,7,7]])"
      ],
      "metadata": {
        "id": "XoCEUcn5smNx"
      },
      "execution_count": 11,
      "outputs": []
    },
    {
      "cell_type": "code",
      "source": [
        "arrays2"
      ],
      "metadata": {
        "colab": {
          "base_uri": "https://localhost:8080/"
        },
        "id": "1dQwpIuss2VG",
        "outputId": "5a335991-bc70-4b8e-ac83-0c41fa9d46be"
      },
      "execution_count": 12,
      "outputs": [
        {
          "output_type": "execute_result",
          "data": {
            "text/plain": [
              "array([[12,  5,  2,  4],\n",
              "       [ 7,  6,  8,  8],\n",
              "       [ 1,  6,  7,  7]])"
            ]
          },
          "metadata": {},
          "execution_count": 12
        }
      ]
    },
    {
      "cell_type": "markdown",
      "source": [
        "## two rows three columns"
      ],
      "metadata": {
        "id": "V4tl-Q-Cs_sT"
      }
    },
    {
      "cell_type": "code",
      "source": [
        "arrays2[:2,:3]"
      ],
      "metadata": {
        "colab": {
          "base_uri": "https://localhost:8080/"
        },
        "id": "kkD70jels4zX",
        "outputId": "f37047ff-d325-4cca-9cb8-b53e401546db"
      },
      "execution_count": 13,
      "outputs": [
        {
          "output_type": "execute_result",
          "data": {
            "text/plain": [
              "array([[12,  5,  2],\n",
              "       [ 7,  6,  8]])"
            ]
          },
          "metadata": {},
          "execution_count": 13
        }
      ]
    },
    {
      "cell_type": "markdown",
      "source": [
        "# all rows, every other column "
      ],
      "metadata": {
        "id": "35gbD67ttDnK"
      }
    },
    {
      "cell_type": "code",
      "source": [
        "arrays2[:3,::2]"
      ],
      "metadata": {
        "colab": {
          "base_uri": "https://localhost:8080/"
        },
        "id": "IQ6nGNeRtJXI",
        "outputId": "64887f29-e814-4356-b70a-469f701c7e36"
      },
      "execution_count": 14,
      "outputs": [
        {
          "output_type": "execute_result",
          "data": {
            "text/plain": [
              "array([[12,  2],\n",
              "       [ 7,  8],\n",
              "       [ 1,  7]])"
            ]
          },
          "metadata": {},
          "execution_count": 14
        }
      ]
    },
    {
      "cell_type": "markdown",
      "source": [
        "# Reshaping Arrays"
      ],
      "metadata": {
        "id": "_DHLLdGGtXUZ"
      }
    },
    {
      "cell_type": "code",
      "source": [
        "grid=np.arange(1,10).reshape((3,3))"
      ],
      "metadata": {
        "id": "lOiXqkldtaCf"
      },
      "execution_count": 16,
      "outputs": []
    },
    {
      "cell_type": "code",
      "source": [
        "print(grid)"
      ],
      "metadata": {
        "colab": {
          "base_uri": "https://localhost:8080/"
        },
        "id": "n8uDCQJrtktP",
        "outputId": "97eeeddd-d72d-459b-c2dd-9c2b8922a020"
      },
      "execution_count": 17,
      "outputs": [
        {
          "output_type": "stream",
          "name": "stdout",
          "text": [
            "[[1 2 3]\n",
            " [4 5 6]\n",
            " [7 8 9]]\n"
          ]
        }
      ]
    },
    {
      "cell_type": "code",
      "source": [
        "grid=np.arange(1,7).reshape((2,3))"
      ],
      "metadata": {
        "id": "wZPPWPaVtiSt"
      },
      "execution_count": 18,
      "outputs": []
    },
    {
      "cell_type": "code",
      "source": [
        "grid"
      ],
      "metadata": {
        "colab": {
          "base_uri": "https://localhost:8080/"
        },
        "id": "iM7Tv_I_tyi4",
        "outputId": "7c283ca1-fe55-47f0-aad6-2371ee12fd99"
      },
      "execution_count": 19,
      "outputs": [
        {
          "output_type": "execute_result",
          "data": {
            "text/plain": [
              "array([[1, 2, 3],\n",
              "       [4, 5, 6]])"
            ]
          },
          "metadata": {},
          "execution_count": 19
        }
      ]
    },
    {
      "cell_type": "code",
      "source": [
        "grid=np.arange(1,7).reshape((3,2))"
      ],
      "metadata": {
        "id": "1l6fNfNlt1Y7"
      },
      "execution_count": 20,
      "outputs": []
    },
    {
      "cell_type": "code",
      "source": [
        "grid"
      ],
      "metadata": {
        "colab": {
          "base_uri": "https://localhost:8080/"
        },
        "id": "sUyhzIwpt4t1",
        "outputId": "8c89db5d-8b4c-480e-c70e-f65aa8d308d1"
      },
      "execution_count": 21,
      "outputs": [
        {
          "output_type": "execute_result",
          "data": {
            "text/plain": [
              "array([[1, 2],\n",
              "       [3, 4],\n",
              "       [5, 6]])"
            ]
          },
          "metadata": {},
          "execution_count": 21
        }
      ]
    }
  ]
}